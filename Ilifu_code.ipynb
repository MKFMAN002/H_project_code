{
 "cells": [
  {
   "cell_type": "code",
   "execution_count": 68,
   "id": "eb72f6ea-c80d-4a35-a3be-285f0c243070",
   "metadata": {},
   "outputs": [],
   "source": [
    "# importing packages:\n",
    "from casatasks import importfits, exportfits, immath, imregrid, imstat, imrebin, imsmooth, imsubimage, imhead\n",
    "import shutil\n",
    "import os\n",
    "import numpy as np"
   ]
  },
  {
   "cell_type": "code",
   "execution_count": 69,
   "id": "24994a84-9fba-4c0c-997a-23d80419919f",
   "metadata": {},
   "outputs": [],
   "source": [
    "# # importing selected images for spectral index\n",
    "importfits(fitsimage='B3LR_cutout400.fits', imagename='B3LR_cutout400.image',overwrite=True)\n",
    "importfits(fitsimage='B4HR_cutout400.fits', imagename='B4HR_cutout400.image',overwrite=True)\n",
    "importfits(fitsimage='B5LR_cutout400.fits', imagename='B5LR_cutout400.image',overwrite=True)\n",
    "importfits(fitsimage='B4LR_cutout400.fits', imagename='B4LR_cutout400.image',overwrite=True)\n"
   ]
  },
  {
   "cell_type": "code",
   "execution_count": 123,
   "id": "e95e2ce0-16b8-429e-b99d-cd03c796b146",
   "metadata": {},
   "outputs": [
    {
     "name": "stdout",
     "output_type": "stream",
     "text": [
      "B3LR_cutout400.image_1 = 4.02264149168e+18\n",
      "B4HR_cutout400.image_1 = 6.887148083240001e+18\n",
      "B5LR_cutout400.image_1 = 1.24960725565e+19\n",
      "B4LR_cutout400.image_1 = 6.887148083240001e+18\n"
     ]
    }
   ],
   "source": [
    "#printing the frequencies of the images:\n",
    "for name in ['B3LR_cutout400.image', 'B4HR_cutout400.image', 'B5LR_cutout400.image', 'B4LR_cutout400.image']:\n",
    "    print(f\"{name}_1 = {imhead(imagename=name, mode='get', hdkey='crval3')['value']*10e9}\")\n"
   ]
  },
  {
   "cell_type": "markdown",
   "id": "7ae19873-42c7-4db2-8971-19dfb2079215",
   "metadata": {},
   "source": [
    "## Smoothing"
   ]
  },
  {
   "cell_type": "code",
   "execution_count": 70,
   "id": "b0908c9b-ff5d-4bae-a0f1-5bb99666ff6a",
   "metadata": {},
   "outputs": [
    {
     "name": "stderr",
     "output_type": "stream",
     "text": [
      "2024-09-29 07:35:08\tWARN\timsmooth::Image2DConvolver::_dealWithRestoringBeam\tFitted restoring beam is major: 3.79397 arcsec, minor: 2.79756 arcsec, pa: 51.858 deg, but putting requested target resolution beam major: 3.8 arcsec, minor: 2.8 arcsec, pa: 51.91 deg in the image metadata. Both beams may be considered consistent with the convolution result.\n"
     ]
    }
   ],
   "source": [
    "# Smooth B4HR and B5LR (the spectral index between thses will give information about specral behavour\n",
    "# of the core)\n",
    "\n",
    "# Smooth the images to (original Res + 0.5)\n",
    "imsmooth(imagename='B3LR_cutout400.image', \n",
    "         kernel='gauss', \n",
    "         major='11arcsec', \n",
    "         minor='8arcsec', \n",
    "         pa='46.59deg',           \n",
    "         outfile='B3LR_cutout400_smooth.image',\n",
    "         targetres=True,\n",
    "         overwrite=True)\n",
    "\n",
    "imsmooth(imagename='B4LR_cutout400.image', \n",
    "         kernel='gauss', \n",
    "         major='11arcsec', \n",
    "         minor='8arcsec', \n",
    "         pa='46.59deg',           \n",
    "         outfile='B4LR_cutout400_smooth.image', \n",
    "         targetres=True,\n",
    "         overwrite=True)\n",
    "\n",
    "# Smooth B3LR and B4LR : gives spectral behavour of the diffused emmision:\n",
    "# smooth the images to (original Res + 0.5)\n",
    "imsmooth(imagename='B5LR_cutout400.image', \n",
    "         kernel='gauss', \n",
    "         major='3.8arcsec', \n",
    "         minor='2.8arcsec', \n",
    "         pa='51.91deg',           \n",
    "         outfile='B5LR_cutout400_smooth.image', \n",
    "         targetres=True,\n",
    "         overwrite=True)\n",
    "\n",
    "imsmooth(imagename='B4HR_cutout400.image', \n",
    "         kernel='gauss', \n",
    "         major='3.8arcsec', \n",
    "         minor='2.8arcsec', \n",
    "         pa='51.91deg',           \n",
    "         outfile='B4HR_cutout400_smooth.image', \n",
    "         targetres=True,\n",
    "         overwrite=True)"
   ]
  },
  {
   "cell_type": "markdown",
   "id": "b94d1150-02e4-4f59-9b40-b1bc490600b9",
   "metadata": {},
   "source": [
    "## Regriding"
   ]
  },
  {
   "cell_type": "code",
   "execution_count": 71,
   "id": "e2b6b30f-0494-459d-a6c4-60ac939d3b6d",
   "metadata": {},
   "outputs": [],
   "source": [
    "# Regriding:\n",
    "# Regriding (B3LR and B4LR) images to the same grid. moving from higer grid size to the lower grid\n",
    "imregrid(\n",
    "    imagename='B3LR_cutout400_smooth.image', \n",
    "    template='B4LR_cutout400_smooth.image',\n",
    "    output='B3LR_cutout400_smooth_rigrid.image',\n",
    "    asvelocity=False,\n",
    "    axes=[0, 1],\n",
    "    interpolation='linear',\n",
    "    overwrite=True\n",
    ")\n",
    "\n",
    "imregrid(\n",
    "    imagename='B4HR_cutout400_smooth.image', \n",
    "    template='B5LR_cutout400_smooth.image',\n",
    "    output='B4HR_cutout400_smooth_rigrid.image',\n",
    "    asvelocity=False,\n",
    "    axes=[0, 1],\n",
    "    interpolation='linear',\n",
    "    overwrite=True\n",
    ")\n",
    "\n",
    "# Before_regrid_original_flux_B3 = imstat(imagename='EN1HALO-B3LR.PBCOR_smooth.image')['sum'][0] # before rigrid\n",
    "# After_regrid_original_flux_B3 = imstat(imagename='EN1HALO-B3LR.PBCOR_smooth_rigrid.image')['sum'][0] # After rigrid\n",
    "\n",
    "# # Check if regrid affect the total flux:\n",
    "# print('# Check if regrid affect the total flux:')\n",
    "# print(' ')\n",
    "# # B3 total flux before and after regriding\n",
    "# print(f'Before_regrid_original_flux_B3', {Before_regrid_original_flux_B3})\n",
    "# print(f'After_regrid_original_flux_B3', {After_regrid_original_flux_B3})\n",
    "# print(' ')\n",
    "\n",
    "# # B3 RA delt before and after rigriding\n",
    "# print('# B3 RA delt before and after rigriding')\n",
    "# print(' ')\n",
    "# print('delta_RA before', imhead('EN1HALO-B3LR.PBCOR.image', mode='list')['cdelt1'])\n",
    "# print('delta_RA after', imhead('EN1HALO-B3LR.PBCOR_smooth_rigrid.image', mode='list')['cdelt1'])\n",
    "# print('BMAJ before regriding', imhead('EN1HALO-B3LR.PBCOR_smooth_rigrid.image', mode='list')['beammajor'])\n",
    "\n",
    "# print(' ')\n",
    "# # B3 DEC delta before and after rigriding\n",
    "# print('# B3 DEC delta before and after rigriding')\n",
    "# print(' ')\n",
    "# print('delta_DEC before', imhead('EN1HALO-B3LR.PBCOR.image', mode='list')['cdelt2'])\n",
    "# print('delta_DEC after', imhead('EN1HALO-B3LR.PBCOR_smooth_rigrid.image', mode='list')['cdelt2'])\n",
    "# print('BMAJ after regriding', imhead('EN1HALO-B3LR.PBCOR_smooth_rigrid.image', mode='list')['beammajor'])\n",
    "\n",
    "# print(' ')\n",
    "# # crval for B3 after rigrid\n",
    "# print('# crval for B3 after rigrid')\n",
    "# print(' ')\n",
    "# print('crval RA for B3', imhead('EN1HALO-B3LR.PBCOR_smooth_rigrid.image', mode='list')['crval1'])\n",
    "# print('crval DEC for B3', imhead('EN1HALO-B3LR.PBCOR_smooth_rigrid.image', mode='list')['crval2'])\n",
    "\n",
    "# print(' ')\n",
    "# print('# crval for B4')\n",
    "# print(' ')\n",
    "# # crval for B4 \n",
    "# print('crval RA for B3 after regrid', imhead('EN1HALO-B4.PBCOR.image', mode='list')['crval1'])\n",
    "# print('crval DEC for B3 after regrid', imhead('EN1HALO-B4.PBCOR.image', mode='list')['crval2'])"
   ]
  },
  {
   "cell_type": "code",
   "execution_count": 72,
   "id": "d3099e85-f889-4d7b-8c3d-b78326839de7",
   "metadata": {},
   "outputs": [],
   "source": [
    "# printing out smoothed images:\n",
    "exportfits(imagename='B3LR_cutout400_smooth.image', fitsimage='B3LR_cutout400_smooth.fits', overwrite=True)\n",
    "exportfits(imagename='B4LR_cutout400_smooth.image', fitsimage='B4LR_cutout400_smooth.fits', overwrite=True)\n",
    "exportfits(imagename='B5LR_cutout400_smooth.image', fitsimage='B5LR_cutout400_smooth.fits', overwrite=True)\n",
    "exportfits(imagename='B4HR_cutout400_smooth.image', fitsimage='B4HR_cutout400_smooth.fits', overwrite=True)\n",
    "\n",
    "# printing regritted images:\n",
    "exportfits(imagename='B3LR_cutout400_smooth_rigrid.image', fitsimage='B3LR_cutout400_smooth_rigrid.fits', overwrite=True)\n",
    "exportfits(imagename='B4HR_cutout400_smooth_rigrid.image', fitsimage='B4HR_cutout400_smooth_rigrid.fits', overwrite=True)"
   ]
  },
  {
   "cell_type": "code",
   "execution_count": 73,
   "id": "ac9c435f-be2a-479e-8917-910dbcde4a18",
   "metadata": {},
   "outputs": [],
   "source": [
    "# # Estimating noise\n",
    "# B4HR_sig = 1.472401083236e-5\n",
    "# B5_sig = 7.052675748895e-6\n",
    "# B3LR_sig = 2.188607491037e-5 \n",
    "# B4N_sig = 8.049171911013e-6\n",
    "\n",
    "# RMS values for the images:\n",
    "\n",
    "# B3LR_rms = 3.739215186517e-5\n",
    "# B4LR_rms = 1.183788051163e-5\n",
    "# B5LR_rms = 8.397302780846e-6\n",
    "# B4HR_rms = 1.337915043336e-5\n",
    "\n",
    "B3LR_rms = 3.351262899043e-5\n",
    "B4LR_rms = 2.656002276407e-5 \n",
    "B5LR_rms = 8.577941067012e-6 \n",
    "B4HR_rms = 1.194284711940e-5 \n",
    "\n",
    "# # Serves as overwrite in case I run this block again\n",
    "# shutil.rmtree('B45_spectral400_index_above_5sigma.image')\n",
    "\n",
    "# # Compute the spectral index where the flux density is above 5 * sigma by masking where the condition applies\n",
    "# immath(\n",
    "#     imagename=['B4_cutout400_smooth_rigrid.image', 'B5_cutout400_smooth.image'],\n",
    "#     mode='spix',\n",
    "#     expr=f'IIF((IM0 > (5 * {B4_sig})) && (IM1 > (5 * {B5_sig})), spix(IM0, IM1), 0)',\n",
    "#     outfile='B45_spectral400_index_above_5sigma.image',\n",
    "#     #expr=f'IIF((IM0 > (5 * {B4_sig})) && (IM1 > (5 * {B5_sig})), spix(IM0, IM1), 0)',\n",
    "#     imagemd='B4_cutout400_smooth_rigrid.image'  \n",
    "# )"
   ]
  },
  {
   "cell_type": "markdown",
   "id": "3db5e4f5-35c1-4918-adb8-5c2195ab4099",
   "metadata": {},
   "source": [
    "## B4 and B5 Creating mask for regions where the flux density is above 5*sigma"
   ]
  },
  {
   "cell_type": "code",
   "execution_count": 74,
   "id": "581c7c33-e976-47eb-a825-fddd3be1beaa",
   "metadata": {},
   "outputs": [
    {
     "data": {
      "text/plain": [
       "True"
      ]
     },
     "execution_count": 74,
     "metadata": {},
     "output_type": "execute_result"
    }
   ],
   "source": [
    "shutil.rmtree('B4HR_mask_above_5sigma.image')\n",
    "\n",
    "immath(\n",
    "    imagename='B4HR_cutout400_smooth_rigrid.image',\n",
    "    mode='evalexpr',\n",
    "    outfile='B4HR_mask_above_5sigma.image',\n",
    "    expr=f'IIF(IM0 > (5 * {B4HR_rms}), 1, 0)'\n",
    ")"
   ]
  },
  {
   "cell_type": "code",
   "execution_count": 75,
   "id": "d78984f7-95bf-4561-ae22-9ea2d52feebb",
   "metadata": {},
   "outputs": [
    {
     "data": {
      "text/plain": [
       "True"
      ]
     },
     "execution_count": 75,
     "metadata": {},
     "output_type": "execute_result"
    }
   ],
   "source": [
    "shutil.rmtree('B5LR_mask_above_5sigma.image')\n",
    "\n",
    "immath(\n",
    "    imagename='B5LR_cutout400_smooth.image',\n",
    "    mode='evalexpr',\n",
    "    outfile='B5LR_mask_above_5sigma.image',\n",
    "    expr=f'IIF(IM0 > (5 * {B5LR_rms}), 1, 0)'\n",
    ")"
   ]
  },
  {
   "cell_type": "code",
   "execution_count": 76,
   "id": "f34304a0-93e8-4776-b7d2-9015a6b44f43",
   "metadata": {},
   "outputs": [
    {
     "data": {
      "text/plain": [
       "True"
      ]
     },
     "execution_count": 76,
     "metadata": {},
     "output_type": "execute_result"
    }
   ],
   "source": [
    "shutil.rmtree('combined_mask_5sigma.image')\n",
    "\n",
    "# Step 2: Combine masks to keep only regions where both conditions are true\n",
    "immath(\n",
    "    imagename=['B4HR_mask_above_5sigma.image', 'B5LR_mask_above_5sigma.image'],\n",
    "    mode='evalexpr',\n",
    "    outfile='combined_mask_5sigma.image',\n",
    "    expr='IM0 * IM1'  # Multiplies masks to keep only regions where both are 1\n",
    ")"
   ]
  },
  {
   "cell_type": "code",
   "execution_count": 77,
   "id": "026043bd-dd6e-4724-a9ee-1135aa1cdbea",
   "metadata": {},
   "outputs": [
    {
     "data": {
      "text/plain": [
       "True"
      ]
     },
     "execution_count": 77,
     "metadata": {},
     "output_type": "execute_result"
    }
   ],
   "source": [
    "shutil.rmtree('B4HR_cutout_filtered_5sigma.image')\n",
    "\n",
    "# Step 3: Apply the combined mask to the original images to create cutouts\n",
    "immath(\n",
    "    imagename=['B4HR_cutout400_smooth_rigrid.image', 'combined_mask_5sigma.image'],\n",
    "    mode='evalexpr',\n",
    "    outfile='B4HR_cutout_filtered_5sigma.image',\n",
    "    expr='IM0 * IM1'\n",
    ")"
   ]
  },
  {
   "cell_type": "code",
   "execution_count": 78,
   "id": "d4fb6707-63ba-4b86-beda-2de43a2322f6",
   "metadata": {},
   "outputs": [
    {
     "data": {
      "text/plain": [
       "True"
      ]
     },
     "execution_count": 78,
     "metadata": {},
     "output_type": "execute_result"
    }
   ],
   "source": [
    "shutil.rmtree('B5LR_cutout_filtered_5sigma.image')\n",
    "\n",
    "immath(\n",
    "    imagename=['B5LR_cutout400_smooth.image', 'combined_mask_5sigma.image'],\n",
    "    mode='evalexpr',\n",
    "    outfile='B5LR_cutout_filtered_5sigma.image',\n",
    "    expr='IM0 * IM1'\n",
    ")"
   ]
  },
  {
   "cell_type": "code",
   "execution_count": 79,
   "id": "56df1df6-70b3-4965-bbbe-c97a83b7b77a",
   "metadata": {},
   "outputs": [
    {
     "data": {
      "text/plain": [
       "True"
      ]
     },
     "execution_count": 79,
     "metadata": {},
     "output_type": "execute_result"
    }
   ],
   "source": [
    "shutil.rmtree('B45_spectral_index_filtered_5sigma.image')\n",
    "\n",
    "# Step 4: Compute the spectral index using the filtered images\n",
    "immath(\n",
    "    imagename=['B4HR_cutout_filtered_5sigma.image', 'B5LR_cutout_filtered_5sigma.image'],\n",
    "    mode='spix',\n",
    "    outfile='B45_spectral_index_filtered_5sigma.image',\n",
    "    imagemd='B4HR_cutout_filtered_5sigma.image'\n",
    ")"
   ]
  },
  {
   "cell_type": "code",
   "execution_count": 80,
   "id": "425a4f24-0ac0-4ad2-9b31-f19af3cecc01",
   "metadata": {},
   "outputs": [],
   "source": [
    "exportfits(imagename='B45_spectral_index_filtered_5sigma.image', fitsimage='B45_spectral_index_filtered_5sigma.fits', overwrite=True)"
   ]
  },
  {
   "cell_type": "markdown",
   "id": "51736220-ae25-4da1-8ed8-1dfbf28019b8",
   "metadata": {},
   "source": [
    "## B4 and B5 Creating mask for regions where the flux density is above 3*sigma"
   ]
  },
  {
   "cell_type": "code",
   "execution_count": 81,
   "id": "9d713f13-d8d1-45b9-8afa-56c195c3d3e2",
   "metadata": {},
   "outputs": [
    {
     "data": {
      "text/plain": [
       "True"
      ]
     },
     "execution_count": 81,
     "metadata": {},
     "output_type": "execute_result"
    }
   ],
   "source": [
    "# Step 1: Create masks for regions where the flux density is above 3 * sigma\n",
    "shutil.rmtree('B4HR_mask_above_3sigma.image')\n",
    "\n",
    "immath(\n",
    "    imagename='B4HR_cutout400_smooth_rigrid.image',\n",
    "    mode='evalexpr',\n",
    "    outfile='B4HR_mask_above_3sigma.image',\n",
    "    expr=f'IIF(IM0 > (3 * {B4HR_rms}), 1, 0)'\n",
    ")\n"
   ]
  },
  {
   "cell_type": "code",
   "execution_count": 82,
   "id": "41b08f9a-8b17-4a4a-b550-68dc81aed66e",
   "metadata": {},
   "outputs": [
    {
     "data": {
      "text/plain": [
       "True"
      ]
     },
     "execution_count": 82,
     "metadata": {},
     "output_type": "execute_result"
    }
   ],
   "source": [
    "shutil.rmtree('B5LR_mask_above_3sigma.image')\n",
    "\n",
    "immath(\n",
    "    imagename='B5LR_cutout400_smooth.image',\n",
    "    mode='evalexpr',\n",
    "    outfile='B5LR_mask_above_3sigma.image',\n",
    "    expr=f'IIF(IM0 > (3 * {B5LR_rms}), 1, 0)'\n",
    ")"
   ]
  },
  {
   "cell_type": "code",
   "execution_count": 83,
   "id": "47f7ef34-9ad2-4c99-9802-507c45327243",
   "metadata": {},
   "outputs": [
    {
     "data": {
      "text/plain": [
       "True"
      ]
     },
     "execution_count": 83,
     "metadata": {},
     "output_type": "execute_result"
    }
   ],
   "source": [
    "shutil.rmtree('combined_mask_3sigma.image')\n",
    "\n",
    "# Step 2: Combine masks to keep only regions where both conditions are true\n",
    "immath(\n",
    "    imagename=['B4HR_mask_above_3sigma.image', 'B5LR_mask_above_3sigma.image'],\n",
    "    mode='evalexpr',\n",
    "    outfile='combined_mask_3sigma.image',\n",
    "    expr='IM0 * IM1'  # Multiplies masks to keep only regions where both are 1\n",
    ")\n"
   ]
  },
  {
   "cell_type": "code",
   "execution_count": 84,
   "id": "11fe0d05-a2a1-4e2d-a59f-b3e7b059180d",
   "metadata": {},
   "outputs": [
    {
     "data": {
      "text/plain": [
       "True"
      ]
     },
     "execution_count": 84,
     "metadata": {},
     "output_type": "execute_result"
    }
   ],
   "source": [
    "shutil.rmtree('B4HR_cutout_filtered_3sigma.image')\n",
    "\n",
    "# Step 3: Apply the combined mask to the original images to create cutouts\n",
    "immath(\n",
    "    imagename=['B4HR_cutout400_smooth_rigrid.image', 'combined_mask_3sigma.image'],\n",
    "    mode='evalexpr',\n",
    "    outfile='B4HR_cutout_filtered_3sigma.image',\n",
    "    expr='IM0 * IM1'\n",
    ")"
   ]
  },
  {
   "cell_type": "code",
   "execution_count": 85,
   "id": "9caf899a-2bed-4160-8c19-fa318a0fe777",
   "metadata": {},
   "outputs": [
    {
     "data": {
      "text/plain": [
       "True"
      ]
     },
     "execution_count": 85,
     "metadata": {},
     "output_type": "execute_result"
    }
   ],
   "source": [
    "shutil.rmtree('B5LR_cutout_filtered_3sigma.image')\n",
    "\n",
    "immath(\n",
    "    imagename=['B5LR_cutout400_smooth.image', 'combined_mask_3sigma.image'],\n",
    "    mode='evalexpr',\n",
    "    outfile='B5LR_cutout_filtered_3sigma.image',\n",
    "    expr='IM0 * IM1'\n",
    ")"
   ]
  },
  {
   "cell_type": "code",
   "execution_count": 86,
   "id": "f29de028-f543-44ce-aac7-d3285fd8de55",
   "metadata": {},
   "outputs": [
    {
     "data": {
      "text/plain": [
       "True"
      ]
     },
     "execution_count": 86,
     "metadata": {},
     "output_type": "execute_result"
    }
   ],
   "source": [
    "shutil.rmtree('B45_spectral_index_filtered_3sigma.image')\n",
    "\n",
    "# Step 4: Compute the spectral index using the filtered images\n",
    "immath(\n",
    "    imagename=['B4HR_cutout_filtered_3sigma.image', 'B5LR_cutout_filtered_3sigma.image'],\n",
    "    mode='spix',\n",
    "    outfile='B45_spectral_index_filtered_3sigma.image',\n",
    "    imagemd='B4HR_cutout_filtered_3sigma.image'\n",
    ")"
   ]
  },
  {
   "cell_type": "code",
   "execution_count": 87,
   "id": "603b0b2f-9763-43d4-b9bf-8a4e20f07582",
   "metadata": {},
   "outputs": [],
   "source": [
    "exportfits(imagename='B45_spectral_index_filtered_3sigma.image', fitsimage='B45_spectral_index_filtered_3sigma.fits', overwrite=True)"
   ]
  },
  {
   "cell_type": "markdown",
   "id": "575ba129-ca53-4525-8734-64f8acb090fe",
   "metadata": {},
   "source": [
    "## B3 and B4 creating mask for regions where the flux density is above 3*sigma"
   ]
  },
  {
   "cell_type": "code",
   "execution_count": 88,
   "id": "84c6a953-15a0-414d-8051-2eaefc6a3ba8",
   "metadata": {},
   "outputs": [
    {
     "data": {
      "text/plain": [
       "True"
      ]
     },
     "execution_count": 88,
     "metadata": {},
     "output_type": "execute_result"
    }
   ],
   "source": [
    "# Step 1: Create masks for regions where the flux density is above 5 * sigma\n",
    "shutil.rmtree('B4LR_mask_above_3sigma.image')\n",
    "\n",
    "immath(\n",
    "    imagename='B4LR_cutout400_smooth.image',\n",
    "    mode='evalexpr',\n",
    "    outfile='B4LR_mask_above_3sigma.image',\n",
    "    expr=f'IIF(IM0 > (3 * {B4LR_rms}), 1, 0)'\n",
    ")"
   ]
  },
  {
   "cell_type": "code",
   "execution_count": 89,
   "id": "05054989-c776-4111-ad99-03873c5b484b",
   "metadata": {},
   "outputs": [
    {
     "data": {
      "text/plain": [
       "True"
      ]
     },
     "execution_count": 89,
     "metadata": {},
     "output_type": "execute_result"
    }
   ],
   "source": [
    "shutil.rmtree('B3LR_mask_above_3sigma.image')\n",
    "\n",
    "immath(\n",
    "    imagename='B3LR_cutout400_smooth_rigrid.image',\n",
    "    mode='evalexpr',\n",
    "    outfile='B3LR_mask_above_3sigma.image',\n",
    "    expr=f'IIF(IM0 > (3 * {B3LR_rms}), 1, 0)'\n",
    ")"
   ]
  },
  {
   "cell_type": "code",
   "execution_count": 90,
   "id": "1c34ef96-5f73-4257-93c2-d8f73eea7ba1",
   "metadata": {},
   "outputs": [
    {
     "data": {
      "text/plain": [
       "True"
      ]
     },
     "execution_count": 90,
     "metadata": {},
     "output_type": "execute_result"
    }
   ],
   "source": [
    "shutil.rmtree('B34_combined_mask_3sigma.image')\n",
    "\n",
    "# Step 2: Combine masks to keep only regions where both conditions are true\n",
    "immath(\n",
    "    imagename=['B4LR_mask_above_3sigma.image', 'B3LR_mask_above_3sigma.image'],\n",
    "    mode='evalexpr',\n",
    "    outfile='B34_combined_mask_3sigma.image',\n",
    "    expr='IM0 * IM1'  # Multiplies masks to keep only regions where both are 1\n",
    ")"
   ]
  },
  {
   "cell_type": "code",
   "execution_count": 91,
   "id": "e6bc05ea-4b0e-4d36-9c8e-e3ee86ef15d6",
   "metadata": {},
   "outputs": [
    {
     "data": {
      "text/plain": [
       "True"
      ]
     },
     "execution_count": 91,
     "metadata": {},
     "output_type": "execute_result"
    }
   ],
   "source": [
    "shutil.rmtree('B4LR_cutout_filtered_3sigma.image')\n",
    "\n",
    "# Step 3: Apply the combined mask to the original images to create cutouts\n",
    "immath(\n",
    "    imagename=['B4LR_cutout400_smooth.image', 'B34_combined_mask_3sigma.image'],\n",
    "    mode='evalexpr',\n",
    "    outfile='B4LR_cutout_filtered_3sigma.image',\n",
    "    expr='IM0 * IM1'\n",
    ") # name convention: B43 : start with the number of filtered image, follow paired image"
   ]
  },
  {
   "cell_type": "code",
   "execution_count": 92,
   "id": "a844e83d-d21e-4393-9f6e-e9ddaf782227",
   "metadata": {},
   "outputs": [
    {
     "data": {
      "text/plain": [
       "True"
      ]
     },
     "execution_count": 92,
     "metadata": {},
     "output_type": "execute_result"
    }
   ],
   "source": [
    "shutil.rmtree('B3LR_cutout_filtered_3sigma.image')\n",
    "\n",
    "immath(\n",
    "    imagename=['B3LR_cutout400_smooth_rigrid.image', 'B34_combined_mask_3sigma.image'],\n",
    "    mode='evalexpr',\n",
    "    outfile='B3LR_cutout_filtered_3sigma.image',\n",
    "    expr='IM0 * IM1'\n",
    ")"
   ]
  },
  {
   "cell_type": "code",
   "execution_count": 93,
   "id": "fcb8f44c-5a58-4333-a4ba-8c579bb8356a",
   "metadata": {},
   "outputs": [
    {
     "data": {
      "text/plain": [
       "True"
      ]
     },
     "execution_count": 93,
     "metadata": {},
     "output_type": "execute_result"
    }
   ],
   "source": [
    "shutil.rmtree('B34_spectral_index_filtered_3sigma.image')\n",
    "\n",
    "# Step 4: Compute the spectral index using the filtered images\n",
    "immath(\n",
    "    imagename=['B3LR_cutout_filtered_3sigma.image', 'B4LR_cutout_filtered_3sigma.image'],\n",
    "    mode='spix',\n",
    "    outfile='B34_spectral_index_filtered_3sigma.image',\n",
    "    imagemd='B3LR_cutout_filtered_3sigma.image'\n",
    ")"
   ]
  },
  {
   "cell_type": "code",
   "execution_count": 94,
   "id": "e8b323a8-b3eb-46f2-aefa-20c645682860",
   "metadata": {},
   "outputs": [],
   "source": [
    "exportfits(imagename='B34_spectral_index_filtered_3sigma.image', fitsimage='B34_spectral_index_filtered_3sigma.fits', overwrite=True)"
   ]
  },
  {
   "cell_type": "markdown",
   "id": "7b68cf17-1158-4171-8d95-d64293850630",
   "metadata": {},
   "source": [
    "## B3 and B4 creating mask for regions where the flux density is above 5*sigma"
   ]
  },
  {
   "cell_type": "code",
   "execution_count": 95,
   "id": "b5f71d2d-f81b-4325-8207-131ef2545d86",
   "metadata": {},
   "outputs": [
    {
     "data": {
      "text/plain": [
       "True"
      ]
     },
     "execution_count": 95,
     "metadata": {},
     "output_type": "execute_result"
    }
   ],
   "source": [
    "shutil.rmtree('B3LR_mask_above_5sigma.image')\n",
    "\n",
    "immath(\n",
    "    imagename='B3LR_cutout400_smooth_rigrid.image',\n",
    "    mode='evalexpr',\n",
    "    outfile='B3LR_mask_above_5sigma.image',\n",
    "    expr=f'IIF(IM0 > (5 * {B3LR_rms}), 1, 0)'\n",
    ")"
   ]
  },
  {
   "cell_type": "code",
   "execution_count": 96,
   "id": "7dd1bc6d-7e45-4b8e-8ec9-e133bfac8357",
   "metadata": {},
   "outputs": [
    {
     "data": {
      "text/plain": [
       "True"
      ]
     },
     "execution_count": 96,
     "metadata": {},
     "output_type": "execute_result"
    }
   ],
   "source": [
    "shutil.rmtree('B4LR_mask_above_5sigma.image')\n",
    "\n",
    "immath(\n",
    "    imagename='B4LR_cutout400_smooth.image',\n",
    "    mode='evalexpr',\n",
    "    outfile='B4LR_mask_above_5sigma.image',\n",
    "    expr=f'IIF(IM0 > (5 * {B4LR_rms}), 1, 0)'\n",
    ")"
   ]
  },
  {
   "cell_type": "code",
   "execution_count": 97,
   "id": "f914c87b-8c7f-4b48-a38a-785eb00601c9",
   "metadata": {},
   "outputs": [
    {
     "data": {
      "text/plain": [
       "True"
      ]
     },
     "execution_count": 97,
     "metadata": {},
     "output_type": "execute_result"
    }
   ],
   "source": [
    "shutil.rmtree('B34_combined_mask_5sigma.image')\n",
    "\n",
    "# Step 3: Apply the combined mask to the original images to create cutouts\n",
    "immath(\n",
    "    imagename=['B3LR_mask_above_5sigma.image', 'B4LR_mask_above_5sigma.image'],\n",
    "    mode='evalexpr',\n",
    "    outfile='B34_combined_mask_5sigma.image',\n",
    "    expr='IM0 * IM1'\n",
    ") # name convention: B43 : start with the number of filtered image, follow paired image"
   ]
  },
  {
   "cell_type": "code",
   "execution_count": 98,
   "id": "ce2b1d5a-56fc-4e47-9aef-69c54213c287",
   "metadata": {},
   "outputs": [
    {
     "data": {
      "text/plain": [
       "True"
      ]
     },
     "execution_count": 98,
     "metadata": {},
     "output_type": "execute_result"
    }
   ],
   "source": [
    "shutil.rmtree('B4LR_cutout_filtered_5sigma.image')\n",
    "\n",
    "# Step 2: Combine masks to keep only regions where both conditions are true\n",
    "immath(\n",
    "    imagename=['B4LR_mask_above_5sigma.image', 'B34_combined_mask_5sigma.image'],\n",
    "    mode='evalexpr',\n",
    "    outfile='B4LR_cutout_filtered_5sigma.image',\n",
    "    expr='IM0 * IM1'  # Multiplies masks to keep only regions where both are 1\n",
    ")"
   ]
  },
  {
   "cell_type": "code",
   "execution_count": 99,
   "id": "373bb6a1-a6be-4d76-a72c-0d00a121903e",
   "metadata": {},
   "outputs": [
    {
     "data": {
      "text/plain": [
       "True"
      ]
     },
     "execution_count": 99,
     "metadata": {},
     "output_type": "execute_result"
    }
   ],
   "source": [
    "shutil.rmtree('B3LR_cutout_filtered_5sigma.image')\n",
    "\n",
    "immath(\n",
    "    imagename=['B3LR_cutout400_smooth_rigrid.image', 'B34_combined_mask_5sigma.image'],\n",
    "    mode='evalexpr',\n",
    "    outfile='B3LR_cutout_filtered_5sigma.image',\n",
    "    expr='IM0 * IM1'\n",
    ")"
   ]
  },
  {
   "cell_type": "code",
   "execution_count": 100,
   "id": "bb11b2b7-9232-4258-8f53-6f4cbe0bda4e",
   "metadata": {
    "scrolled": true
   },
   "outputs": [
    {
     "data": {
      "text/plain": [
       "True"
      ]
     },
     "execution_count": 100,
     "metadata": {},
     "output_type": "execute_result"
    }
   ],
   "source": [
    "shutil.rmtree('B4LR_cutout_filtered_5sigma.image')\n",
    "\n",
    "immath(\n",
    "    imagename=['B4LR_cutout400_smooth.image', 'B34_combined_mask_5sigma.image'],\n",
    "    mode='evalexpr',\n",
    "    outfile='B4LR_cutout_filtered_5sigma.image',\n",
    "    expr='IM0 * IM1'\n",
    ")"
   ]
  },
  {
   "cell_type": "code",
   "execution_count": 101,
   "id": "96835a9c-f240-48ca-b8ec-08d1a64ab2f7",
   "metadata": {},
   "outputs": [
    {
     "data": {
      "text/plain": [
       "True"
      ]
     },
     "execution_count": 101,
     "metadata": {},
     "output_type": "execute_result"
    }
   ],
   "source": [
    "shutil.rmtree('B34_spectral_index_filtered_5sigma.image')\n",
    "\n",
    "# Step 4: Compute the spectral index using the filtered images\n",
    "immath(\n",
    "    imagename=['B3LR_cutout_filtered_5sigma.image', 'B4LR_cutout_filtered_5sigma.image'],\n",
    "    mode='spix',\n",
    "    outfile='B34_spectral_index_filtered_5sigma.image',\n",
    "    imagemd='B3LR_cutout_filtered_5sigma.image'\n",
    ")"
   ]
  },
  {
   "cell_type": "code",
   "execution_count": 102,
   "id": "317d0d63-62ac-4c7e-88d0-eadb4e9e1111",
   "metadata": {},
   "outputs": [],
   "source": [
    "exportfits(imagename='B34_spectral_index_filtered_5sigma.image', fitsimage='B34_spectral_index_filtered_5sigma.fits', overwrite=True)"
   ]
  },
  {
   "cell_type": "markdown",
   "id": "2c86c7ca-8de9-4f31-ab56-8eed9cd51d95",
   "metadata": {},
   "source": [
    "## Computing spectral index uncertainty:"
   ]
  },
  {
   "cell_type": "code",
   "execution_count": 103,
   "id": "75d92d56-eab0-499e-81fa-581ab6ae857a",
   "metadata": {},
   "outputs": [
    {
     "name": "stdout",
     "output_type": "stream",
     "text": [
      "688714808.324 1249607255.65\n"
     ]
    }
   ],
   "source": [
    "B4HR_freq_1 = imhead(imagename=\"B4HR_cutout_filtered_5sigma.image\", mode=\"get\", hdkey=\"crval3\")['value']\n",
    "B5LR_freq_1 = imhead(imagename=\"B5LR_cutout_filtered_5sigma.image\", mode=\"get\", hdkey=\"crval3\")['value']\n",
    "print(B4HR_freq_1,B5LR_freq_1)"
   ]
  },
  {
   "cell_type": "code",
   "execution_count": 136,
   "id": "73df9d87-7f6c-475c-bd10-65e4113ae398",
   "metadata": {},
   "outputs": [
    {
     "data": {
      "text/plain": [
       "True"
      ]
     },
     "execution_count": 136,
     "metadata": {},
     "output_type": "execute_result"
    }
   ],
   "source": [
    "# Calculating spectral uncertianty: for B3LR and B4LR above 5sigma:\n",
    "# shutil.rmtree('B45_spix_uncertainty_5sigma.image')\n",
    "# immath(\n",
    "#     imagename=[\"B4HR_cutout_filtered_5sigma.image\", \"B5LR_cutout_filtered_5sigma.image\"],\n",
    "#     expr=f\"(1/log10({B5LR_freq_1}/{B4HR_freq_1})) * sqrt(({B4HR_rms}/IM0)^2 + ({B5LR_rms}/IM1)^2)\",\n",
    "#     outfile=\"B45_spix_uncertainty_5sigma.image\",\n",
    "#     imagemd=\"B4HR_cutout_filtered_5sigma.image\"\n",
    "# )\n",
    "\n",
    "# Calculating spectral uncertainty: for B3LR and B4LR above 5 sigma\n",
    "\n",
    "\n",
    "# Removing the previous file if it exists\n",
    "# Calculating spectral uncertainty: for B3LR and B4LR above 5 sigma\n",
    "import shutil\n",
    "\n",
    "# Removing the previous file if it exists\n",
    "shutil.rmtree('B45_spix_uncertainty_5sigma.image')\n",
    "\n",
    "# Apply abs() to the logarithmic part and inside sqrt to avoid negatives\n",
    "immath(\n",
    "    imagename=[\"B4HR_cutout_filtered_5sigma.image\", \"B5LR_cutout_filtered_5sigma.image\"],\n",
    "    expr=f\"(1/abs(log10({B5LR_freq_1}/{B4HR_freq_1}))) * sqrt(abs(({B4HR_rms}/IM0)^2) + abs(({B5LR_rms}/IM1)^2))\",\n",
    "    outfile=\"B45_spix_uncertainty_5sigma.image\",\n",
    "    imagemd=\"B4HR_cutout_filtered_5sigma.image\"\n",
    ")"
   ]
  },
  {
   "cell_type": "code",
   "execution_count": 137,
   "id": "2583fa4c-b708-459f-a642-259881d14e8d",
   "metadata": {},
   "outputs": [],
   "source": [
    "exportfits(imagename='B45_spix_uncertainty_5sigma.image', fitsimage='B45_spix_uncertainty_5sigma.fits', overwrite= True)"
   ]
  },
  {
   "cell_type": "code",
   "execution_count": 107,
   "id": "e8810413-1cef-48d1-b75c-273a82671305",
   "metadata": {},
   "outputs": [
    {
     "data": {
      "text/plain": [
       "True"
      ]
     },
     "execution_count": 107,
     "metadata": {},
     "output_type": "execute_result"
    }
   ],
   "source": [
    "# Calculating spectral uncertianty: for B3LR and B4LR above 5sigma:\n",
    "shutil.rmtree('B45_spix_uncertainty_3sigma.image')\n",
    "\n",
    "immath(\n",
    "    imagename=[\"B4HR_cutout_filtered_3sigma.image\", \"B5LR_cutout_filtered_3sigma.image\"],\n",
    "    expr=f\"(1/log10({B5LR_freq_1}/{B4HR_freq_1})) * sqrt(({B4HR_rms}/IM0)^2 + ({B5LR_rms}/IM1)^2)\",\n",
    "    outfile=\"B45_spix_uncertainty_3sigma.image\",\n",
    "    imagemd=\"B4HR_cutout_filtered_3sigma.image\"\n",
    ")"
   ]
  },
  {
   "cell_type": "code",
   "execution_count": 108,
   "id": "af2f100b-9ab8-4728-a113-17d731c4a7e3",
   "metadata": {},
   "outputs": [],
   "source": [
    "exportfits(imagename='B45_spix_uncertainty_3sigma.image', fitsimage='B45_spix_uncertainty_3sigma.fits', overwrite = True)"
   ]
  },
  {
   "cell_type": "code",
   "execution_count": 109,
   "id": "b1cde67d-e02c-4a30-b630-e650fa55fd1b",
   "metadata": {},
   "outputs": [
    {
     "name": "stdout",
     "output_type": "stream",
     "text": [
      "688714808.324 1249607255.65\n"
     ]
    }
   ],
   "source": [
    "B4LR_freq_2 = imhead(imagename=\"B4HR_cutout_filtered_5sigma.image\", mode=\"get\", hdkey=\"crval3\")['value']\n",
    "B3LR_freq_2 = imhead(imagename=\"B5LR_cutout_filtered_5sigma.image\", mode=\"get\", hdkey=\"crval3\")['value']\n",
    "print(B4LR_freq_2,B3LR_freq_2)"
   ]
  },
  {
   "cell_type": "code",
   "execution_count": 110,
   "id": "46be3f23-2871-4845-806e-15c2c10b1cfb",
   "metadata": {},
   "outputs": [
    {
     "data": {
      "text/plain": [
       "True"
      ]
     },
     "execution_count": 110,
     "metadata": {},
     "output_type": "execute_result"
    }
   ],
   "source": [
    "# Calculating spectral uncertianty: for B3LR and B4LR above 5sigma:\n",
    "shutil.rmtree('B34_spix_uncertainty_3sigma.image')\n",
    "\n",
    "immath(\n",
    "    imagename=[\"B4LR_cutout_filtered_3sigma.image\", \"B3LR_cutout_filtered_3sigma.image\"],\n",
    "    expr=f\"(1/log10({B4LR_freq_2}/{B3LR_freq_2})) * sqrt(({B4LR_rms}/IM0)^2 + ({B3LR_rms}/IM1)^2)\",\n",
    "    outfile=\"B34_spix_uncertainty_3sigma.image\",\n",
    "    imagemd=\"B3LR_cutout_filtered_3sigma.image\"\n",
    ")"
   ]
  },
  {
   "cell_type": "code",
   "execution_count": 111,
   "id": "16957b0a-a80f-4f1b-98d3-468635f03285",
   "metadata": {},
   "outputs": [],
   "source": [
    "exportfits(imagename='B34_spix_uncertainty_3sigma.image', fitsimage='B34_spix_uncertainty_3sigma.fits', overwrite = True)"
   ]
  },
  {
   "cell_type": "code",
   "execution_count": 134,
   "id": "911e840d-1179-462a-a28a-6c175332e527",
   "metadata": {},
   "outputs": [
    {
     "data": {
      "text/plain": [
       "True"
      ]
     },
     "execution_count": 134,
     "metadata": {},
     "output_type": "execute_result"
    }
   ],
   "source": [
    "# Calculating spectral uncertianty: for B3LR and B4LR above 5sigma:\n",
    "#shutil.rmtree('B34_spix_uncertainty_5sigma.image')\n",
    "# immath(\n",
    "#     imagename=[\"B4LR_cutout_filtered_5sigma.image\", \"B3LR_cutout_filtered_5sigma.image\"],\n",
    "#     expr=f\"(1/log10({B4LR_freq_2}/{B3LR_freq_2})) * sqrt(({B4LR_rms}/IM0)^2 + ({B3LR_rms}/IM1)^2)\",\n",
    "#     outfile=\"B34_spix_uncertainty_5sigma.image\",\n",
    "#     imagemd=\"B3LR_cutout_filtered_5sigma.image\"\n",
    "# )\n",
    "\n",
    "\n",
    "# Apply abs() to the logarithmic part and inside sqrt to avoid negatives\n",
    "immath(\n",
    "    imagename=[\"B4LR_cutout_filtered_5sigma.image\", \"B3LR_cutout_filtered_5sigma.image\"],\n",
    "    expr=f\"(1/abs(log10({B5LR_freq_1}/{B4HR_freq_1}))) * sqrt(abs(({B4HR_rms}/IM0)^2) + abs(({B5LR_rms}/IM1)^2))\",\n",
    "    outfile=\"B34_spix_uncertainty_5sigma.image\",\n",
    "    imagemd=\"B3LR_cutout_filtered_5sigma.image\"\n",
    ")"
   ]
  },
  {
   "cell_type": "code",
   "execution_count": 135,
   "id": "8a6c843f-f778-41c4-a559-562522f4f616",
   "metadata": {},
   "outputs": [],
   "source": [
    "exportfits(imagename='B34_spix_uncertainty_5sigma.image', fitsimage='B34_spix_uncertainty_5sigma.fits', overwrite = True)"
   ]
  },
  {
   "cell_type": "code",
   "execution_count": 24,
   "id": "7ff07831-3937-4c4b-813d-6e0e94cdcf9b",
   "metadata": {},
   "outputs": [
    {
     "ename": "SyntaxError",
     "evalue": "invalid syntax (3851346270.py, line 38)",
     "output_type": "error",
     "traceback": [
      "\u001b[0;36m  Cell \u001b[0;32mIn[24], line 38\u001b[0;36m\u001b[0m\n\u001b[0;31m    print(f'Before smoothing B4 {Bmaj_B4_before}, {Bmaj_B4_before['beamminor']['value']}')  # print flux\u001b[0m\n\u001b[0m                                                                   ^\u001b[0m\n\u001b[0;31mSyntaxError\u001b[0m\u001b[0;31m:\u001b[0m invalid syntax\n"
     ]
    }
   ],
   "source": [
    "  #  expr=f'IM0 > 5*{B4_sig} && IM1 > 5*{B5_sig} ? spix(IM0, IM1) : 0',\n",
    "\n",
    "# Flux Before and after smoothing:\n",
    "flux_B3LR_before = imstat(imagename='B3LR_cutout400.image')['flux'][0] # check total flux before\n",
    "flux_B3LR_after = imstat(imagename='B3LR_cutout400_smooth.image')['flux'][0] # check flux after\n",
    "\n",
    "flux_B4_before = imstat(imagename='B4_cutout400.image')['flux'][0]\n",
    "flux_B4_after = imstat(imagename='B4_cutout400_smooth.image')['flux'][0]\n",
    "\n",
    "flux_B5_before = imstat(imagename='B5_cutout400.image')['flux'][0] # check total flux before\n",
    "flux_B5_after = imstat(imagename='B5_cutout400_smooth.image')['flux'][0] # check flux after \n",
    "\n",
    "# beammajor and beamminor before and after smoothing:\n",
    "Bmaj_B3LR_before = imhead(imagename='B3LR_cutout400.image', mode = 'list')#['beammajor']['value'] # check total flux before\n",
    "Bmaj_B3LR_after = imhead(imagename='B3LR_cutout400_smooth.image', mode = 'list')#['beammajor']['value'] # check total flux before\n",
    "\n",
    "Bmin_B3LR_before = imhead(imagename='B3LR_cutout400.image', mode = 'list')#['beamminor']['value'] # check flux after\n",
    "Bmin_B3LR_after = imhead(imagename='B3LR_cutout400_smooth.image', mode = 'list')#['beamminor']['value'] # check flux after\n",
    "\n",
    "Bmaj_B4_before = imhead(imagename='B4_cutout400.image', mode = 'list')#['beammajor']['value']\n",
    "Bmin_B4_after = imhead(imagename='B4_cutout400_smooth.image' , mode = 'list')#['beamminor']['value']\n",
    "\n",
    "Bmaj_B5_before = imhead(imagename='B5_cutout400.image', mode = 'list')#['beammajor']['value'] # check total flux before\n",
    "Bmaj_B5_after = imhead(imagename='B5_cutout400_smooth.image', mode = 'list')#['beamminor']['value'] # check flux after \n",
    "\n",
    "# printing flux before and after:\n",
    "print(f'Before smoothing B3LR {flux_B3LR_before}, After smoothing {flux_B3LR_after}')  # print flux \n",
    "\n",
    "print(' ')\n",
    "print(f'Before smoothing B4 {flux_B4_before}, After smoothing {flux_B4_after}')  # print flux \n",
    "\n",
    "print(' ')\n",
    "print(f'Before smoothing B5 {flux_B5_before}, After smoothing {flux_B5_after}')  # print flux \n",
    "\n",
    "# printing beammajor and beamminor after:\n",
    "print(f'Before smoothing B3LR {Bmaj_B3LR_before}, {Bmin_B3LR_before}')  # print flux \n",
    "print(f'After smoothing B3LR {Bmaj_B3LR_after}, {Bmin_B3LR_after}')  # print flux \n",
    "\n",
    "print(' ')\n",
    "print(f'Before smoothing B4 {Bmaj_B4_before}, {Bmaj_B4_before['beamminor']['value']}')  # print flux \n",
    "print(f'After smoothing B4 {Bmaj_B4_after}, {Bmin_B4_after}')  # print flux \n",
    "\n",
    "print(' ')\n",
    "print(f'Before smoothing B5 {Bmaj_B5_before}, {Bmin_B5_before}')  # print flux \n",
    "print(f'After smoothing B5 {Bmaj_B5_after}, {Bmin_B5_after}')  # print flux "
   ]
  },
  {
   "cell_type": "markdown",
   "id": "d1db8c56-3049-4d26-a24c-9be64adb6c75",
   "metadata": {},
   "source": [
    "## This is the try using different code: (The code in the above is used in this project)"
   ]
  },
  {
   "cell_type": "markdown",
   "id": "a7ee5e95-df8e-4179-996c-e51f76996169",
   "metadata": {},
   "source": [
    "## Looping for different values of bmajor and bminor"
   ]
  },
  {
   "cell_type": "code",
   "execution_count": 37,
   "id": "50e3f7fe-eeeb-4ea6-919b-a215e55955f7",
   "metadata": {},
   "outputs": [
    {
     "name": "stdout",
     "output_type": "stream",
     "text": [
      "Original Total Flux (B3): 288.20922176794244\n",
      "Original Total Flux (B4): 56.24122340565076\n",
      "\n",
      "Smoothing and Regridding Attempt (bmaj=10.55386, bmin=7.3823):\n",
      "Total Flux (B3) -> Before: 288.20922176794244, After Smoothing: 288.20922353683477\n",
      "Total Flux (B4) -> Before: 56.24122340565076, After Smoothing: 252.92121903895412\n",
      "\n",
      "bmaj=10.55386, bmin=7.3823 worked but did not match flux yet\n",
      "\n",
      "Smoothing and Regridding Attempt (bmaj=10.55406, bmin=7.3825):\n",
      "Total Flux (B3) -> Before: 288.20922176794244, After Smoothing: 288.20922353683477\n",
      "Total Flux (B4) -> Before: 56.24122340565076, After Smoothing: 252.93263700218392\n",
      "\n",
      "bmaj=10.55406, bmin=7.3825 worked but did not match flux yet\n",
      "\n",
      "Smoothing and Regridding Attempt (bmaj=10.554359999999999, bmin=7.3828000000000005):\n",
      "Total Flux (B3) -> Before: 288.20922176794244, After Smoothing: 288.20922353683477\n",
      "Total Flux (B4) -> Before: 56.24122340565076, After Smoothing: 252.94980891433573\n",
      "\n",
      "bmaj=10.554359999999999, bmin=7.3828000000000005 worked but did not match flux yet\n",
      "\n",
      "Smoothing and Regridding Attempt (bmaj=10.55476, bmin=7.3832):\n",
      "Total Flux (B3) -> Before: 288.20922176794244, After Smoothing: 288.20922353683477\n",
      "Total Flux (B4) -> Before: 56.24122340565076, After Smoothing: 252.97271988983485\n",
      "\n",
      "bmaj=10.55476, bmin=7.3832 worked but did not match flux yet\n",
      "\n",
      "Smoothing and Regridding Attempt (bmaj=10.55526, bmin=7.3837):\n",
      "Total Flux (B3) -> Before: 288.20922176794244, After Smoothing: 288.20922353683477\n",
      "Total Flux (B4) -> Before: 56.24122340565076, After Smoothing: 253.00136146019167\n",
      "\n",
      "bmaj=10.55526, bmin=7.3837 worked but did not match flux yet\n",
      "\n",
      "Smoothing and Regridding Attempt (bmaj=10.555860000000001, bmin=7.3843000000000005):\n",
      "Total Flux (B3) -> Before: 288.20922176794244, After Smoothing: 288.20922353683477\n",
      "Total Flux (B4) -> Before: 56.24122340565076, After Smoothing: 253.03570688061023\n",
      "\n",
      "bmaj=10.555860000000001, bmin=7.3843000000000005 worked but did not match flux yet\n",
      "\n",
      "Smoothing and Regridding Attempt (bmaj=10.556560000000001, bmin=7.385000000000001):\n",
      "Total Flux (B3) -> Before: 288.20922176794244, After Smoothing: 288.20922353683477\n",
      "Total Flux (B4) -> Before: 56.24122340565076, After Smoothing: 253.07583843828556\n",
      "\n",
      "bmaj=10.556560000000001, bmin=7.385000000000001 worked but did not match flux yet\n",
      "\n",
      "Smoothing and Regridding Attempt (bmaj=10.557360000000001, bmin=7.385800000000001):\n",
      "Total Flux (B3) -> Before: 288.20922176794244, After Smoothing: 288.20922353683477\n",
      "Total Flux (B4) -> Before: 56.24122340565076, After Smoothing: 253.12164621199676\n",
      "\n",
      "bmaj=10.557360000000001, bmin=7.385800000000001 worked but did not match flux yet\n",
      "\n"
     ]
    },
    {
     "ename": "KeyboardInterrupt",
     "evalue": "",
     "output_type": "error",
     "traceback": [
      "\u001b[0;31m---------------------------------------------------------------------------\u001b[0m",
      "\u001b[0;31mKeyboardInterrupt\u001b[0m                         Traceback (most recent call last)",
      "Cell \u001b[0;32mIn[37], line 30\u001b[0m\n\u001b[1;32m     27\u001b[0m BMIN \u001b[38;5;241m=\u001b[39m \u001b[38;5;124mf\u001b[39m\u001b[38;5;124m\"\u001b[39m\u001b[38;5;132;01m{\u001b[39;00mbmin\u001b[38;5;132;01m}\u001b[39;00m\u001b[38;5;124marcsec\u001b[39m\u001b[38;5;124m\"\u001b[39m\n\u001b[1;32m     29\u001b[0m \u001b[38;5;66;03m# Smooth the images\u001b[39;00m\n\u001b[0;32m---> 30\u001b[0m \u001b[43mimsmooth\u001b[49m\u001b[43m(\u001b[49m\u001b[43mimagename\u001b[49m\u001b[38;5;241;43m=\u001b[39;49m\u001b[38;5;124;43m'\u001b[39;49m\u001b[38;5;124;43mEN1HALO-B3LR.PBCOR.image\u001b[39;49m\u001b[38;5;124;43m'\u001b[39;49m\u001b[43m,\u001b[49m\u001b[43m \u001b[49m\n\u001b[1;32m     31\u001b[0m \u001b[43m         \u001b[49m\u001b[43mkernel\u001b[49m\u001b[38;5;241;43m=\u001b[39;49m\u001b[38;5;124;43m'\u001b[39;49m\u001b[38;5;124;43mgauss\u001b[39;49m\u001b[38;5;124;43m'\u001b[39;49m\u001b[43m,\u001b[49m\u001b[43m \u001b[49m\n\u001b[1;32m     32\u001b[0m \u001b[43m         \u001b[49m\u001b[43mmajor\u001b[49m\u001b[38;5;241;43m=\u001b[39;49m\u001b[43mBMAJ\u001b[49m\u001b[43m,\u001b[49m\u001b[43m \u001b[49m\n\u001b[1;32m     33\u001b[0m \u001b[43m         \u001b[49m\u001b[43mminor\u001b[49m\u001b[38;5;241;43m=\u001b[39;49m\u001b[43mBMIN\u001b[49m\u001b[43m,\u001b[49m\u001b[43m \u001b[49m\n\u001b[1;32m     34\u001b[0m \u001b[43m         \u001b[49m\u001b[43mpa\u001b[49m\u001b[38;5;241;43m=\u001b[39;49m\u001b[38;5;124;43m'\u001b[39;49m\u001b[38;5;124;43m46.59deg\u001b[39;49m\u001b[38;5;124;43m'\u001b[39;49m\u001b[43m,\u001b[49m\u001b[43m           \u001b[49m\n\u001b[1;32m     35\u001b[0m \u001b[43m         \u001b[49m\u001b[43moutfile\u001b[49m\u001b[38;5;241;43m=\u001b[39;49m\u001b[38;5;124;43m'\u001b[39;49m\u001b[38;5;124;43mEN1HALO-B3LR.PBCOR_smooth.image\u001b[39;49m\u001b[38;5;124;43m'\u001b[39;49m\u001b[43m,\u001b[49m\n\u001b[1;32m     36\u001b[0m \u001b[43m         \u001b[49m\u001b[43mtargetres\u001b[49m\u001b[38;5;241;43m=\u001b[39;49m\u001b[38;5;28;43;01mTrue\u001b[39;49;00m\u001b[43m,\u001b[49m\n\u001b[1;32m     37\u001b[0m \u001b[43m         \u001b[49m\u001b[43moverwrite\u001b[49m\u001b[38;5;241;43m=\u001b[39;49m\u001b[38;5;28;43;01mTrue\u001b[39;49;00m\u001b[43m)\u001b[49m\n\u001b[1;32m     39\u001b[0m imsmooth(imagename\u001b[38;5;241m=\u001b[39m\u001b[38;5;124m'\u001b[39m\u001b[38;5;124mEN1HALO-B4.PBCOR.image\u001b[39m\u001b[38;5;124m'\u001b[39m, \n\u001b[1;32m     40\u001b[0m          kernel\u001b[38;5;241m=\u001b[39m\u001b[38;5;124m'\u001b[39m\u001b[38;5;124mgauss\u001b[39m\u001b[38;5;124m'\u001b[39m, \n\u001b[1;32m     41\u001b[0m          major\u001b[38;5;241m=\u001b[39mBMAJ, \n\u001b[0;32m   (...)\u001b[0m\n\u001b[1;32m     45\u001b[0m          targetres\u001b[38;5;241m=\u001b[39m\u001b[38;5;28;01mTrue\u001b[39;00m,\n\u001b[1;32m     46\u001b[0m          overwrite\u001b[38;5;241m=\u001b[39m\u001b[38;5;28;01mTrue\u001b[39;00m)\n\u001b[1;32m     48\u001b[0m \u001b[38;5;66;03m# Calculate the total flux after smoothing\u001b[39;00m\n",
      "File \u001b[0;32m/usr/local/lib/python3.8/dist-packages/casatasks/imsmooth.py:201\u001b[0m, in \u001b[0;36m_imsmooth.__call__\u001b[0;34m(self, imagename, kernel, major, minor, pa, targetres, kimage, scale, region, box, chans, stokes, mask, outfile, stretch, overwrite, beam)\u001b[0m\n\u001b[1;32m    199\u001b[0m task_result \u001b[38;5;241m=\u001b[39m \u001b[38;5;28;01mNone\u001b[39;00m\n\u001b[1;32m    200\u001b[0m \u001b[38;5;28;01mtry\u001b[39;00m:\n\u001b[0;32m--> 201\u001b[0m     task_result \u001b[38;5;241m=\u001b[39m \u001b[43m_imsmooth_t\u001b[49m\u001b[43m(\u001b[49m\u001b[43m \u001b[49m\u001b[43m_pc\u001b[49m\u001b[38;5;241;43m.\u001b[39;49m\u001b[43mdocument\u001b[49m\u001b[43m[\u001b[49m\u001b[38;5;124;43m'\u001b[39;49m\u001b[38;5;124;43mimagename\u001b[39;49m\u001b[38;5;124;43m'\u001b[39;49m\u001b[43m]\u001b[49m\u001b[43m,\u001b[49m\u001b[43m \u001b[49m\u001b[43m_pc\u001b[49m\u001b[38;5;241;43m.\u001b[39;49m\u001b[43mdocument\u001b[49m\u001b[43m[\u001b[49m\u001b[38;5;124;43m'\u001b[39;49m\u001b[38;5;124;43mkernel\u001b[39;49m\u001b[38;5;124;43m'\u001b[39;49m\u001b[43m]\u001b[49m\u001b[43m,\u001b[49m\u001b[43m \u001b[49m\u001b[43m_pc\u001b[49m\u001b[38;5;241;43m.\u001b[39;49m\u001b[43mdocument\u001b[49m\u001b[43m[\u001b[49m\u001b[38;5;124;43m'\u001b[39;49m\u001b[38;5;124;43mmajor\u001b[39;49m\u001b[38;5;124;43m'\u001b[39;49m\u001b[43m]\u001b[49m\u001b[43m,\u001b[49m\u001b[43m \u001b[49m\u001b[43m_pc\u001b[49m\u001b[38;5;241;43m.\u001b[39;49m\u001b[43mdocument\u001b[49m\u001b[43m[\u001b[49m\u001b[38;5;124;43m'\u001b[39;49m\u001b[38;5;124;43mminor\u001b[39;49m\u001b[38;5;124;43m'\u001b[39;49m\u001b[43m]\u001b[49m\u001b[43m,\u001b[49m\u001b[43m \u001b[49m\u001b[43m_pc\u001b[49m\u001b[38;5;241;43m.\u001b[39;49m\u001b[43mdocument\u001b[49m\u001b[43m[\u001b[49m\u001b[38;5;124;43m'\u001b[39;49m\u001b[38;5;124;43mpa\u001b[39;49m\u001b[38;5;124;43m'\u001b[39;49m\u001b[43m]\u001b[49m\u001b[43m,\u001b[49m\u001b[43m \u001b[49m\u001b[43m_pc\u001b[49m\u001b[38;5;241;43m.\u001b[39;49m\u001b[43mdocument\u001b[49m\u001b[43m[\u001b[49m\u001b[38;5;124;43m'\u001b[39;49m\u001b[38;5;124;43mtargetres\u001b[39;49m\u001b[38;5;124;43m'\u001b[39;49m\u001b[43m]\u001b[49m\u001b[43m,\u001b[49m\u001b[43m \u001b[49m\u001b[43m_pc\u001b[49m\u001b[38;5;241;43m.\u001b[39;49m\u001b[43mdocument\u001b[49m\u001b[43m[\u001b[49m\u001b[38;5;124;43m'\u001b[39;49m\u001b[38;5;124;43mkimage\u001b[39;49m\u001b[38;5;124;43m'\u001b[39;49m\u001b[43m]\u001b[49m\u001b[43m,\u001b[49m\u001b[43m \u001b[49m\u001b[43m_pc\u001b[49m\u001b[38;5;241;43m.\u001b[39;49m\u001b[43mdocument\u001b[49m\u001b[43m[\u001b[49m\u001b[38;5;124;43m'\u001b[39;49m\u001b[38;5;124;43mscale\u001b[39;49m\u001b[38;5;124;43m'\u001b[39;49m\u001b[43m]\u001b[49m\u001b[43m,\u001b[49m\u001b[43m \u001b[49m\u001b[43m_pc\u001b[49m\u001b[38;5;241;43m.\u001b[39;49m\u001b[43mdocument\u001b[49m\u001b[43m[\u001b[49m\u001b[38;5;124;43m'\u001b[39;49m\u001b[38;5;124;43mregion\u001b[39;49m\u001b[38;5;124;43m'\u001b[39;49m\u001b[43m]\u001b[49m\u001b[43m,\u001b[49m\u001b[43m \u001b[49m\u001b[43m_pc\u001b[49m\u001b[38;5;241;43m.\u001b[39;49m\u001b[43mdocument\u001b[49m\u001b[43m[\u001b[49m\u001b[38;5;124;43m'\u001b[39;49m\u001b[38;5;124;43mbox\u001b[39;49m\u001b[38;5;124;43m'\u001b[39;49m\u001b[43m]\u001b[49m\u001b[43m,\u001b[49m\u001b[43m \u001b[49m\u001b[43m_pc\u001b[49m\u001b[38;5;241;43m.\u001b[39;49m\u001b[43mdocument\u001b[49m\u001b[43m[\u001b[49m\u001b[38;5;124;43m'\u001b[39;49m\u001b[38;5;124;43mchans\u001b[39;49m\u001b[38;5;124;43m'\u001b[39;49m\u001b[43m]\u001b[49m\u001b[43m,\u001b[49m\u001b[43m \u001b[49m\u001b[43m_pc\u001b[49m\u001b[38;5;241;43m.\u001b[39;49m\u001b[43mdocument\u001b[49m\u001b[43m[\u001b[49m\u001b[38;5;124;43m'\u001b[39;49m\u001b[38;5;124;43mstokes\u001b[39;49m\u001b[38;5;124;43m'\u001b[39;49m\u001b[43m]\u001b[49m\u001b[43m,\u001b[49m\u001b[43m \u001b[49m\u001b[43m_pc\u001b[49m\u001b[38;5;241;43m.\u001b[39;49m\u001b[43mdocument\u001b[49m\u001b[43m[\u001b[49m\u001b[38;5;124;43m'\u001b[39;49m\u001b[38;5;124;43mmask\u001b[39;49m\u001b[38;5;124;43m'\u001b[39;49m\u001b[43m]\u001b[49m\u001b[43m,\u001b[49m\u001b[43m \u001b[49m\u001b[43m_pc\u001b[49m\u001b[38;5;241;43m.\u001b[39;49m\u001b[43mdocument\u001b[49m\u001b[43m[\u001b[49m\u001b[38;5;124;43m'\u001b[39;49m\u001b[38;5;124;43moutfile\u001b[39;49m\u001b[38;5;124;43m'\u001b[39;49m\u001b[43m]\u001b[49m\u001b[43m,\u001b[49m\u001b[43m \u001b[49m\u001b[43m_pc\u001b[49m\u001b[38;5;241;43m.\u001b[39;49m\u001b[43mdocument\u001b[49m\u001b[43m[\u001b[49m\u001b[38;5;124;43m'\u001b[39;49m\u001b[38;5;124;43mstretch\u001b[39;49m\u001b[38;5;124;43m'\u001b[39;49m\u001b[43m]\u001b[49m\u001b[43m,\u001b[49m\u001b[43m \u001b[49m\u001b[43m_pc\u001b[49m\u001b[38;5;241;43m.\u001b[39;49m\u001b[43mdocument\u001b[49m\u001b[43m[\u001b[49m\u001b[38;5;124;43m'\u001b[39;49m\u001b[38;5;124;43moverwrite\u001b[39;49m\u001b[38;5;124;43m'\u001b[39;49m\u001b[43m]\u001b[49m\u001b[43m,\u001b[49m\u001b[43m \u001b[49m\u001b[43m_pc\u001b[49m\u001b[38;5;241;43m.\u001b[39;49m\u001b[43mdocument\u001b[49m\u001b[43m[\u001b[49m\u001b[38;5;124;43m'\u001b[39;49m\u001b[38;5;124;43mbeam\u001b[39;49m\u001b[38;5;124;43m'\u001b[39;49m\u001b[43m]\u001b[49m\u001b[43m \u001b[49m\u001b[43m)\u001b[49m\n\u001b[1;32m    202\u001b[0m \u001b[38;5;28;01mexcept\u001b[39;00m \u001b[38;5;167;01mException\u001b[39;00m \u001b[38;5;28;01mas\u001b[39;00m exc:\n\u001b[1;32m    203\u001b[0m     _except_log(\u001b[38;5;124m'\u001b[39m\u001b[38;5;124mimsmooth\u001b[39m\u001b[38;5;124m'\u001b[39m, exc)\n",
      "File \u001b[0;32m/usr/local/lib/python3.8/dist-packages/casatasks/private/callabletask.py:31\u001b[0m, in \u001b[0;36mlog_origin_setter.<locals>.wrapper\u001b[0;34m(*args, **kwargs)\u001b[0m\n\u001b[1;32m     27\u001b[0m \u001b[38;5;129m@functools\u001b[39m\u001b[38;5;241m.\u001b[39mwraps(func)\n\u001b[1;32m     28\u001b[0m \u001b[38;5;28;01mdef\u001b[39;00m \u001b[38;5;21mwrapper\u001b[39m(\u001b[38;5;241m*\u001b[39margs, \u001b[38;5;241m*\u001b[39m\u001b[38;5;241m*\u001b[39mkwargs):\n\u001b[1;32m     29\u001b[0m     __set_origin(inspect\u001b[38;5;241m.\u001b[39mstack(), casalog\u001b[38;5;241m.\u001b[39mgetOrigin(), func\u001b[38;5;241m.\u001b[39m\u001b[38;5;18m__name__\u001b[39m)\n\u001b[0;32m---> 31\u001b[0m     retval \u001b[38;5;241m=\u001b[39m \u001b[43mfunc\u001b[49m\u001b[43m(\u001b[49m\u001b[38;5;241;43m*\u001b[39;49m\u001b[43margs\u001b[49m\u001b[43m,\u001b[49m\u001b[43m \u001b[49m\u001b[38;5;241;43m*\u001b[39;49m\u001b[38;5;241;43m*\u001b[39;49m\u001b[43mkwargs\u001b[49m\u001b[43m)\u001b[49m\n\u001b[1;32m     33\u001b[0m     \u001b[38;5;28;01mreturn\u001b[39;00m retval\n",
      "File \u001b[0;32m/usr/local/lib/python3.8/dist-packages/casatasks/private/task_imsmooth.py:163\u001b[0m, in \u001b[0;36mimsmooth\u001b[0;34m(imagename, kernel, major, minor, pa, targetres, kimage, scale, region, box, chans, stokes, mask, outfile, stretch, overwrite, beam)\u001b[0m\n\u001b[1;32m    160\u001b[0m         \u001b[38;5;28;01mif\u001b[39;00m \u001b[38;5;129;01mnot\u001b[39;00m pa:\n\u001b[1;32m    161\u001b[0m             \u001b[38;5;28;01mraise\u001b[39;00m \u001b[38;5;167;01mValueError\u001b[39;00m(\u001b[38;5;124m\"\u001b[39m\u001b[38;5;124mPosition angle must be specified\u001b[39m\u001b[38;5;124m\"\u001b[39m)\n\u001b[0;32m--> 163\u001b[0m     outia \u001b[38;5;241m=\u001b[39m \u001b[43m_myia\u001b[49m\u001b[38;5;241;43m.\u001b[39;49m\u001b[43mconvolve2d\u001b[49m\u001b[43m(\u001b[49m\n\u001b[1;32m    164\u001b[0m \u001b[43m        \u001b[49m\u001b[43maxes\u001b[49m\u001b[38;5;241;43m=\u001b[39;49m\u001b[43m[\u001b[49m\u001b[38;5;241;43m0\u001b[39;49m\u001b[43m,\u001b[49m\u001b[38;5;241;43m1\u001b[39;49m\u001b[43m]\u001b[49m\u001b[43m,\u001b[49m\u001b[43m \u001b[49m\u001b[43mregion\u001b[49m\u001b[38;5;241;43m=\u001b[39;49m\u001b[43mreg\u001b[49m\u001b[43m,\u001b[49m\u001b[43m \u001b[49m\u001b[43mmajor\u001b[49m\u001b[38;5;241;43m=\u001b[39;49m\u001b[43mmajor\u001b[49m\u001b[43m,\u001b[49m\n\u001b[1;32m    165\u001b[0m \u001b[43m        \u001b[49m\u001b[43mminor\u001b[49m\u001b[38;5;241;43m=\u001b[39;49m\u001b[43mminor\u001b[49m\u001b[43m,\u001b[49m\u001b[43m \u001b[49m\u001b[43mpa\u001b[49m\u001b[38;5;241;43m=\u001b[39;49m\u001b[43mpa\u001b[49m\u001b[43m,\u001b[49m\u001b[43m \u001b[49m\u001b[43moutfile\u001b[49m\u001b[38;5;241;43m=\u001b[39;49m\u001b[43moutfile\u001b[49m\u001b[43m,\u001b[49m\n\u001b[1;32m    166\u001b[0m \u001b[43m        \u001b[49m\u001b[43mmask\u001b[49m\u001b[38;5;241;43m=\u001b[39;49m\u001b[43mmask\u001b[49m\u001b[43m,\u001b[49m\u001b[43m \u001b[49m\u001b[43mstretch\u001b[49m\u001b[38;5;241;43m=\u001b[39;49m\u001b[43mstretch\u001b[49m\u001b[43m,\u001b[49m\u001b[43m \u001b[49m\u001b[43mtargetres\u001b[49m\u001b[38;5;241;43m=\u001b[39;49m\u001b[43mtargetres\u001b[49m\u001b[43m,\u001b[49m\n\u001b[1;32m    167\u001b[0m \u001b[43m        \u001b[49m\u001b[43moverwrite\u001b[49m\u001b[38;5;241;43m=\u001b[39;49m\u001b[43moverwrite\u001b[49m\u001b[43m,\u001b[49m\u001b[43m \u001b[49m\u001b[43mbeam\u001b[49m\u001b[38;5;241;43m=\u001b[39;49m\u001b[43mbeam\u001b[49m\n\u001b[1;32m    168\u001b[0m \u001b[43m    \u001b[49m\u001b[43m)\u001b[49m\n\u001b[1;32m    169\u001b[0m \u001b[38;5;28;01melif\u001b[39;00m (bkernel ):\n\u001b[1;32m    170\u001b[0m     \u001b[38;5;28;01mif\u001b[39;00m \u001b[38;5;129;01mnot\u001b[39;00m major \u001b[38;5;129;01mor\u001b[39;00m \u001b[38;5;129;01mnot\u001b[39;00m minor:\n",
      "File \u001b[0;32m/usr/local/lib/python3.8/dist-packages/casatools/image.py:1062\u001b[0m, in \u001b[0;36mimage.convolve2d\u001b[0;34m(self, outfile, axes, type, major, minor, pa, scale, region, mask, overwrite, stretch, targetres, beam)\u001b[0m\n\u001b[1;32m    950\u001b[0m \u001b[38;5;28;01mdef\u001b[39;00m \u001b[38;5;21mconvolve2d\u001b[39m(\u001b[38;5;28mself\u001b[39m, outfile\u001b[38;5;241m=\u001b[39m\u001b[38;5;124m'\u001b[39m\u001b[38;5;124m'\u001b[39m, axes\u001b[38;5;241m=\u001b[39m[ \u001b[38;5;28mint\u001b[39m(\u001b[38;5;241m0\u001b[39m),\u001b[38;5;28mint\u001b[39m(\u001b[38;5;241m1\u001b[39m) ], \u001b[38;5;28mtype\u001b[39m\u001b[38;5;241m=\u001b[39m\u001b[38;5;124m'\u001b[39m\u001b[38;5;124mgaussian\u001b[39m\u001b[38;5;124m'\u001b[39m, major\u001b[38;5;241m=\u001b[39m\u001b[38;5;124m'\u001b[39m\u001b[38;5;124m0deg\u001b[39m\u001b[38;5;124m'\u001b[39m, minor\u001b[38;5;241m=\u001b[39m\u001b[38;5;124m'\u001b[39m\u001b[38;5;124m0deg\u001b[39m\u001b[38;5;124m'\u001b[39m, pa\u001b[38;5;241m=\u001b[39m\u001b[38;5;124m'\u001b[39m\u001b[38;5;124m0deg\u001b[39m\u001b[38;5;124m'\u001b[39m, scale\u001b[38;5;241m=\u001b[39m\u001b[38;5;28mfloat\u001b[39m(\u001b[38;5;241m-\u001b[39m\u001b[38;5;241m1\u001b[39m), region\u001b[38;5;241m=\u001b[39m{ }, mask\u001b[38;5;241m=\u001b[39m\u001b[38;5;124m'\u001b[39m\u001b[38;5;124m'\u001b[39m, overwrite\u001b[38;5;241m=\u001b[39m\u001b[38;5;28;01mFalse\u001b[39;00m, stretch\u001b[38;5;241m=\u001b[39m\u001b[38;5;28;01mFalse\u001b[39;00m, targetres\u001b[38;5;241m=\u001b[39m\u001b[38;5;28;01mFalse\u001b[39;00m, beam\u001b[38;5;241m=\u001b[39m{ }):\n\u001b[1;32m    951\u001b[0m \u001b[38;5;250m    \u001b[39m\u001b[38;5;124;03m\"\"\"This function performs Fourier-based convolution of an imagefile\u001b[39;00m\n\u001b[1;32m    952\u001b[0m \u001b[38;5;124;03m    using the provided 2D kernel.\u001b[39;00m\n\u001b[1;32m    953\u001b[0m \u001b[38;5;124;03m    \u001b[39;00m\n\u001b[0;32m   (...)\u001b[0m\n\u001b[1;32m   1060\u001b[0m \u001b[38;5;124;03m    sepconvolve.\u001b[39;00m\n\u001b[1;32m   1061\u001b[0m \u001b[38;5;124;03m    \"\"\"\u001b[39;00m\n\u001b[0;32m-> 1062\u001b[0m     \u001b[38;5;28;01mreturn\u001b[39;00m _wrap_image(swig_object\u001b[38;5;241m=\u001b[39m\u001b[38;5;28;43mself\u001b[39;49m\u001b[38;5;241;43m.\u001b[39;49m\u001b[43m_swigobj\u001b[49m\u001b[38;5;241;43m.\u001b[39;49m\u001b[43mconvolve2d\u001b[49m\u001b[43m(\u001b[49m\u001b[43moutfile\u001b[49m\u001b[43m,\u001b[49m\u001b[43m \u001b[49m\u001b[43maxes\u001b[49m\u001b[43m,\u001b[49m\u001b[43m \u001b[49m\u001b[38;5;28;43mtype\u001b[39;49m\u001b[43m,\u001b[49m\u001b[43m \u001b[49m\u001b[43mmajor\u001b[49m\u001b[43m,\u001b[49m\u001b[43m \u001b[49m\u001b[43mminor\u001b[49m\u001b[43m,\u001b[49m\u001b[43m \u001b[49m\u001b[43mpa\u001b[49m\u001b[43m,\u001b[49m\u001b[43m \u001b[49m\u001b[43mscale\u001b[49m\u001b[43m,\u001b[49m\u001b[43m \u001b[49m\u001b[43mregion\u001b[49m\u001b[43m,\u001b[49m\u001b[43m \u001b[49m\u001b[43mmask\u001b[49m\u001b[43m,\u001b[49m\u001b[43m \u001b[49m\u001b[43moverwrite\u001b[49m\u001b[43m,\u001b[49m\u001b[43m \u001b[49m\u001b[43mstretch\u001b[49m\u001b[43m,\u001b[49m\u001b[43m \u001b[49m\u001b[43mtargetres\u001b[49m\u001b[43m,\u001b[49m\u001b[43m \u001b[49m\u001b[43mbeam\u001b[49m\u001b[43m)\u001b[49m)\n",
      "File \u001b[0;32m/usr/local/lib/python3.8/dist-packages/casatools/__casac__/image.py:2317\u001b[0m, in \u001b[0;36mimage.convolve2d\u001b[0;34m(self, *args, **kwargs)\u001b[0m\n\u001b[1;32m   2147\u001b[0m \u001b[38;5;28;01mdef\u001b[39;00m \u001b[38;5;21mconvolve2d\u001b[39m(\u001b[38;5;28mself\u001b[39m, \u001b[38;5;241m*\u001b[39margs, \u001b[38;5;241m*\u001b[39m\u001b[38;5;241m*\u001b[39mkwargs):\n\u001b[1;32m   2148\u001b[0m \u001b[38;5;250m    \u001b[39m\u001b[38;5;124mr\u001b[39m\u001b[38;5;124;03m\"\"\"\u001b[39;00m\n\u001b[1;32m   2149\u001b[0m \u001b[38;5;124;03m    convolve2d(self, _outfile=string(\"\"), _axes=std::vector< long >({0,1}), _type=string(\"gaussian\"), _major=variant( ), _minor=variant( ), _pa=variant( ), _scale=double(-1), _region=variant( ), _mask=variant( ), _overwrite=bool(false), _stretch=bool(false), _targetres=bool(false), _beam=initialize_record(\"\")) -> image\u001b[39;00m\n\u001b[1;32m   2150\u001b[0m \n\u001b[0;32m   (...)\u001b[0m\n\u001b[1;32m   2315\u001b[0m \n\u001b[1;32m   2316\u001b[0m \u001b[38;5;124;03m    \"\"\"\u001b[39;00m\n\u001b[0;32m-> 2317\u001b[0m     \u001b[38;5;28;01mreturn\u001b[39;00m \u001b[43m_image\u001b[49m\u001b[38;5;241;43m.\u001b[39;49m\u001b[43mimage_convolve2d\u001b[49m\u001b[43m(\u001b[49m\u001b[38;5;28;43mself\u001b[39;49m\u001b[43m,\u001b[49m\u001b[43m \u001b[49m\u001b[38;5;241;43m*\u001b[39;49m\u001b[43margs\u001b[49m\u001b[43m,\u001b[49m\u001b[43m \u001b[49m\u001b[38;5;241;43m*\u001b[39;49m\u001b[38;5;241;43m*\u001b[39;49m\u001b[43mkwargs\u001b[49m\u001b[43m)\u001b[49m\n",
      "\u001b[0;31mKeyboardInterrupt\u001b[0m: "
     ]
    }
   ],
   "source": [
    "# Smoothing:\n",
    "# When smoothing I first iterate through different values of bmajor and bminor to see which values gives the Total('sum') before close to after\n",
    "# Here is the code for looping:\n",
    "\n",
    "\n",
    "bmaj = 10.55376\n",
    "bmin = 7.3822\n",
    "\n",
    "# Compute the total flux for the original images\n",
    "original_flux_B3 = abs(imstat(imagename='EN1HALO-B3LR.PBCOR.image')['sum'][0])\n",
    "original_flux_B4 = abs(imstat(imagename='EN1HALO-B4.PBCOR.image')['sum'][0])\n",
    "\n",
    "# Allow a tolerance for the difference in flux (due to rounding errors)\n",
    "flux_tolerance = 1e-5  # You can adjust this tolerance as needed\n",
    "\n",
    "print(f\"Original Total Flux (B3): {original_flux_B3}\")\n",
    "print(f\"Original Total Flux (B4): {original_flux_B4}\\n\")\n",
    "\n",
    "for more in np.arange(1e-4, 1, 1e-4):\n",
    "    try:\n",
    "        # Increment bmaj and bmin\n",
    "        bmaj += more\n",
    "        bmin += more\n",
    "    \n",
    "        # Convert to string with units\n",
    "        BMAJ = f\"{bmaj}arcsec\"\n",
    "        BMIN = f\"{bmin}arcsec\"\n",
    "        \n",
    "        # Smooth the images\n",
    "        imsmooth(imagename='EN1HALO-B3LR.PBCOR.image', \n",
    "                 kernel='gauss', \n",
    "                 major=BMAJ, \n",
    "                 minor=BMIN, \n",
    "                 pa='46.59deg',           \n",
    "                 outfile='EN1HALO-B3LR.PBCOR_smooth.image',\n",
    "                 targetres=True,\n",
    "                 overwrite=True)\n",
    "        \n",
    "        imsmooth(imagename='EN1HALO-B4.PBCOR.image', \n",
    "                 kernel='gauss', \n",
    "                 major=BMAJ, \n",
    "                 minor=BMIN, \n",
    "                 pa='46.59deg',           \n",
    "                 outfile='EN1HALO-B4.PBCOR_smooth.image', \n",
    "                 targetres=True,\n",
    "                 overwrite=True)\n",
    "        \n",
    "        # Calculate the total flux after smoothing\n",
    "        smooth_flux_B3 = abs(imstat(imagename='EN1HALO-B3LR.PBCOR_smooth.image')['sum'][0])\n",
    "        smooth_flux_B4 = abs(imstat(imagename='EN1HALO-B4.PBCOR_smooth.image')['sum'][0])\n",
    "        \n",
    "       \n",
    "        # Print the total flux for both images at each stage\n",
    "        print(f\"Smoothing and Regridding Attempt (bmaj={bmaj}, bmin={bmin}):\")\n",
    "        print(f\"Total Flux (B3) -> Before: {original_flux_B3}, After Smoothing: {smooth_flux_B3}\")\n",
    "        print(f\"Total Flux (B4) -> Before: {original_flux_B4}, After Smoothing: {smooth_flux_B4}\\n\")\n",
    "        \n",
    "        # Check if the total flux is converging within the tolerance for both images\n",
    "        if (abs(original_flux_B3 - smooth_flux_B3) < flux_tolerance and\n",
    "            abs(original_flux_B4 - smooth_flux_B4) < flux_tolerance):\n",
    "            print(f\"Converged: Successful smoothing with bmaj={bmaj}, bmin={bmin}\")\n",
    "            break\n",
    "\n",
    "    except RuntimeError:\n",
    "        print(f\"{bmaj=}, {bmin=} did not work\")\n",
    "        continue\n",
    "    else:\n",
    "        print(f\"{bmaj=}, {bmin=} worked but did not match flux yet\\n\")"
   ]
  },
  {
   "cell_type": "code",
   "execution_count": 39,
   "id": "6c1ec8c5-67b7-48ce-a6ee-abbccf789c36",
   "metadata": {},
   "outputs": [],
   "source": [
    "# Challenge 1:\n",
    "# After smoothing you can see, the total flux of B4 before and after are way too far from each other"
   ]
  },
  {
   "cell_type": "code",
   "execution_count": null,
   "id": "b154b5de-bc5e-48fc-bdd4-3ca362cba41a",
   "metadata": {},
   "outputs": [],
   "source": [
    "# Challenge 2:\n",
    "# Total flux change after rigriding changed\n",
    "# And delta values for both RA and DEC changes, though number of pixel in the grid did not change."
   ]
  },
  {
   "cell_type": "code",
   "execution_count": null,
   "id": "d4ab9858-39da-4f19-939b-74b2af43aa48",
   "metadata": {},
   "outputs": [],
   "source": []
  },
  {
   "cell_type": "code",
   "execution_count": 56,
   "id": "321ccc81-2104-4efc-b671-21c148f059b0",
   "metadata": {},
   "outputs": [],
   "source": [
    "exportfits(imagename='EN1HALO-B3LR.PBCOR_smooth_rigrid.image', fitsimage='EN1HALO-B3LR.PBCOR_smooth_rigrid.fits', overwrite=True)"
   ]
  },
  {
   "cell_type": "markdown",
   "id": "885c73e6-e320-4ef4-9874-3a828f2fcabd",
   "metadata": {},
   "source": [
    "## Spectral index"
   ]
  },
  {
   "cell_type": "code",
   "execution_count": null,
   "id": "e83be03e-6fec-4f8c-9514-daf1ced24187",
   "metadata": {},
   "outputs": [],
   "source": [
    "# The spectral index is not as expected:\n",
    "# And offcourse I am  not suprised because beams of  the "
   ]
  },
  {
   "cell_type": "code",
   "execution_count": 59,
   "id": "c792c561-3c7e-45ea-a124-56441f87c9a4",
   "metadata": {},
   "outputs": [
    {
     "name": "stdout",
     "output_type": "stream",
     "text": [
      "Deleted folder: B34_spix_uncertainty_5sigma.image\n",
      "All matching folders deleted.\n"
     ]
    }
   ],
   "source": [
    "import os\n",
    "import shutil\n",
    "\n",
    "def delete_folder(suffix):\n",
    "    \n",
    "    # Get the current working directory\n",
    "    current_dir = os.getcwd()\n",
    "    \n",
    "    # Specify the suffix for targeting folders\n",
    "    #suffix = \".image\"\n",
    "    \n",
    "    # Loop through all items in the current directory\n",
    "    for folder_name in os.listdir(current_dir):\n",
    "        folder_path = os.path.join(current_dir, folder_name)\n",
    "        \n",
    "        # Check if it's a folder and ends with the specified suffix\n",
    "        if os.path.isdir(folder_path) and folder_name.endswith(suffix):\n",
    "            # Forcefully delete the folder\n",
    "            shutil.rmtree(folder_path)\n",
    "            print(f\"Deleted folder: {folder_name}\")\n",
    "    \n",
    "    print(\"All matching folders deleted.\")\n",
    "delete_folder('B34_spix_uncertainty_5sigma.image')"
   ]
  },
  {
   "cell_type": "code",
   "execution_count": 33,
   "id": "5fa0505e-b747-4bbb-b5a7-e51306dbbc55",
   "metadata": {},
   "outputs": [
    {
     "name": "stdout",
     "output_type": "stream",
     "text": [
      "All matching files deleted.\n"
     ]
    }
   ],
   "source": [
    "def remove_files(file):\n",
    "    # Get the current working directory\n",
    "    current_dir = os.getcwd()\n",
    "    \n",
    "    # Specify the suffix for targeting files\n",
    "    suffix = \"_suffix\"\n",
    "    \n",
    "    # Loop through all items in the current directory\n",
    "    for file_name in os.listdir(current_dir):\n",
    "        file_path = os.path.join(current_dir, file_name)\n",
    "        \n",
    "        # Check if it's a file and ends with the specified suffix\n",
    "        if os.path.isfile(file_path) and file_name.endswith(suffix):\n",
    "            # Forcefully delete the file\n",
    "            os.remove(file_path)\n",
    "            print(f\"Deleted file: {file_name}\")\n",
    "    \n",
    "    print(\"All matching files deleted.\")\n",
    "remove_files('.fits')"
   ]
  },
  {
   "cell_type": "markdown",
   "id": "48b0551e-bfa5-40ff-8221-dd1f8ae2651f",
   "metadata": {},
   "source": [
    "## Updating the fits headers:"
   ]
  },
  {
   "cell_type": "code",
   "execution_count": 116,
   "id": "1f9fd735-45f6-4921-bcef-f4f6d1ec452b",
   "metadata": {},
   "outputs": [
    {
     "name": "stdout",
     "output_type": "stream",
     "text": [
      "Max BMAJ: 10.55376 (from B3LR)\n",
      "Max BMIN: 7.382160000000001 (from B3LR)\n"
     ]
    }
   ],
   "source": [
    "# Create dictionaries with beammajor and beamminor values\n",
    "BMAJ_list = {\n",
    "    'B3LR': imhead(imagename='B3LR_cutout400.image', mode='list')['beammajor']['value'],\n",
    "    'B4': imhead(imagename='B4_cutout400.image', mode='list')['beammajor']['value'],\n",
    "    'B5': imhead(imagename='B5_cutout400.image', mode='list')['beammajor']['value']\n",
    "}\n",
    "\n",
    "BMIN_list = {\n",
    "    'B3LR': imhead(imagename='B3LR_cutout400.image', mode='list')['beamminor']['value'],\n",
    "    'B4': imhead(imagename='B4_cutout400.image', mode='list')['beamminor']['value'],\n",
    "    'B5': imhead(imagename='B5_cutout400.image', mode='list')['beamminor']['value']\n",
    "}\n",
    "\n",
    "# Find the minimum beammajor and beamminor values and their corresponding keys\n",
    "BMAJ_key = max(BMAJ_list, key=BMAJ_list.get)  # key for the minimum value in BMAJ_list\n",
    "BMAJ_max = BMAJ_list[BMAJ_key]  # maxvalue of BMAJ\n",
    "\n",
    "BMIN_key = max(BMIN_list, key=BMIN_list.get)  # key for the minimum value in BMIN_list\n",
    "BMIN_max = BMIN_list[BMIN_key]  # max value of BMIN\n",
    "\n",
    "# Print the results\n",
    "print(f\"Max BMAJ: {BMAJ_max} (from {BMAJ_key})\")\n",
    "print(f\"Max BMIN: {BMIN_max} (from {BMIN_key})\")\n"
   ]
  },
  {
   "cell_type": "code",
   "execution_count": 120,
   "id": "cbd7c653-ca8d-4888-9b72-8bb6c0e766b8",
   "metadata": {},
   "outputs": [],
   "source": []
  },
  {
   "cell_type": "code",
   "execution_count": 119,
   "id": "1d08e91c-d1e1-419f-afc4-f7d0bfec9a1e",
   "metadata": {},
   "outputs": [
    {
     "ename": "AssertionError",
     "evalue": "the imagename parameter must be a path that exists ('EN1HALO-B3LR.PBCOR.image' does not exist)",
     "output_type": "error",
     "traceback": [
      "\u001b[0;31m---------------------------------------------------------------------------\u001b[0m",
      "\u001b[0;31mAssertionError\u001b[0m                            Traceback (most recent call last)",
      "Cell \u001b[0;32mIn[119], line 1\u001b[0m\n\u001b[0;32m----> 1\u001b[0m headerB3 \u001b[38;5;241m=\u001b[39m \u001b[43mimhead\u001b[49m\u001b[43m(\u001b[49m\u001b[38;5;124;43m'\u001b[39;49m\u001b[38;5;124;43mEN1HALO-B3LR.PBCOR.image\u001b[39;49m\u001b[38;5;124;43m'\u001b[39;49m\u001b[43m,\u001b[49m\u001b[43m \u001b[49m\u001b[43mmode\u001b[49m\u001b[38;5;241;43m=\u001b[39;49m\u001b[38;5;124;43m'\u001b[39;49m\u001b[38;5;124;43mlist\u001b[39;49m\u001b[38;5;124;43m'\u001b[39;49m\u001b[43m)\u001b[49m\n\u001b[1;32m      2\u001b[0m headerB4 \u001b[38;5;241m=\u001b[39m imhead(\u001b[38;5;124m'\u001b[39m\u001b[38;5;124mEN1HALO-B4.PBCOR.image\u001b[39m\u001b[38;5;124m'\u001b[39m, mode\u001b[38;5;241m=\u001b[39m\u001b[38;5;124m'\u001b[39m\u001b[38;5;124mlist\u001b[39m\u001b[38;5;124m'\u001b[39m)\n\u001b[1;32m      4\u001b[0m \u001b[38;5;28mprint\u001b[39m(\u001b[38;5;124m'\u001b[39m\u001b[38;5;124mB3 crval1\u001b[39m\u001b[38;5;124m'\u001b[39m, headerB3[\u001b[38;5;124m'\u001b[39m\u001b[38;5;124mcrval1\u001b[39m\u001b[38;5;124m'\u001b[39m], \u001b[38;5;124m'\u001b[39m\u001b[38;5;124m: B4 crval1\u001b[39m\u001b[38;5;124m'\u001b[39m, headerB4[\u001b[38;5;124m'\u001b[39m\u001b[38;5;124mcrval1\u001b[39m\u001b[38;5;124m'\u001b[39m])\n",
      "File \u001b[0;32m/usr/local/lib/python3.8/dist-packages/casatasks/imhead.py:126\u001b[0m, in \u001b[0;36m_imhead.__call__\u001b[0;34m(self, imagename, mode, hdkey, hdvalue, verbose)\u001b[0m\n\u001b[1;32m    124\u001b[0m schema \u001b[38;5;241m=\u001b[39m {\u001b[38;5;124m'\u001b[39m\u001b[38;5;124mimagename\u001b[39m\u001b[38;5;124m'\u001b[39m: {\u001b[38;5;124m'\u001b[39m\u001b[38;5;124mtype\u001b[39m\u001b[38;5;124m'\u001b[39m: \u001b[38;5;124m'\u001b[39m\u001b[38;5;124mcReqPath\u001b[39m\u001b[38;5;124m'\u001b[39m, \u001b[38;5;124m'\u001b[39m\u001b[38;5;124mcoerce\u001b[39m\u001b[38;5;124m'\u001b[39m: _coerce\u001b[38;5;241m.\u001b[39mexpand_path}, \u001b[38;5;124m'\u001b[39m\u001b[38;5;124mmode\u001b[39m\u001b[38;5;124m'\u001b[39m: {\u001b[38;5;124m'\u001b[39m\u001b[38;5;124mtype\u001b[39m\u001b[38;5;124m'\u001b[39m: \u001b[38;5;124m'\u001b[39m\u001b[38;5;124mcStr\u001b[39m\u001b[38;5;124m'\u001b[39m, \u001b[38;5;124m'\u001b[39m\u001b[38;5;124mcoerce\u001b[39m\u001b[38;5;124m'\u001b[39m: _coerce\u001b[38;5;241m.\u001b[39mto_str, \u001b[38;5;124m'\u001b[39m\u001b[38;5;124mallowed\u001b[39m\u001b[38;5;124m'\u001b[39m: [ \u001b[38;5;124m'\u001b[39m\u001b[38;5;124madd\u001b[39m\u001b[38;5;124m'\u001b[39m, \u001b[38;5;124m'\u001b[39m\u001b[38;5;124mput\u001b[39m\u001b[38;5;124m'\u001b[39m, \u001b[38;5;124m'\u001b[39m\u001b[38;5;124mhistory\u001b[39m\u001b[38;5;124m'\u001b[39m, \u001b[38;5;124m'\u001b[39m\u001b[38;5;124mget\u001b[39m\u001b[38;5;124m'\u001b[39m, \u001b[38;5;124m'\u001b[39m\u001b[38;5;124msummary\u001b[39m\u001b[38;5;124m'\u001b[39m, \u001b[38;5;124m'\u001b[39m\u001b[38;5;124mlist\u001b[39m\u001b[38;5;124m'\u001b[39m, \u001b[38;5;124m'\u001b[39m\u001b[38;5;124mdel\u001b[39m\u001b[38;5;124m'\u001b[39m ]}, \u001b[38;5;124m'\u001b[39m\u001b[38;5;124mhdkey\u001b[39m\u001b[38;5;124m'\u001b[39m: {\u001b[38;5;124m'\u001b[39m\u001b[38;5;124mtype\u001b[39m\u001b[38;5;124m'\u001b[39m: \u001b[38;5;124m'\u001b[39m\u001b[38;5;124mcStr\u001b[39m\u001b[38;5;124m'\u001b[39m, \u001b[38;5;124m'\u001b[39m\u001b[38;5;124mcoerce\u001b[39m\u001b[38;5;124m'\u001b[39m: _coerce\u001b[38;5;241m.\u001b[39mto_str}, \u001b[38;5;124m'\u001b[39m\u001b[38;5;124mhdvalue\u001b[39m\u001b[38;5;124m'\u001b[39m: {\u001b[38;5;124m'\u001b[39m\u001b[38;5;124mtype\u001b[39m\u001b[38;5;124m'\u001b[39m: \u001b[38;5;124m'\u001b[39m\u001b[38;5;124mcVariant\u001b[39m\u001b[38;5;124m'\u001b[39m, \u001b[38;5;124m'\u001b[39m\u001b[38;5;124mcoerce\u001b[39m\u001b[38;5;124m'\u001b[39m: [_coerce\u001b[38;5;241m.\u001b[39mto_variant]}, \u001b[38;5;124m'\u001b[39m\u001b[38;5;124mverbose\u001b[39m\u001b[38;5;124m'\u001b[39m: {\u001b[38;5;124m'\u001b[39m\u001b[38;5;124mtype\u001b[39m\u001b[38;5;124m'\u001b[39m: \u001b[38;5;124m'\u001b[39m\u001b[38;5;124mcBool\u001b[39m\u001b[38;5;124m'\u001b[39m}}\n\u001b[1;32m    125\u001b[0m doc \u001b[38;5;241m=\u001b[39m {\u001b[38;5;124m'\u001b[39m\u001b[38;5;124mimagename\u001b[39m\u001b[38;5;124m'\u001b[39m: imagename, \u001b[38;5;124m'\u001b[39m\u001b[38;5;124mmode\u001b[39m\u001b[38;5;124m'\u001b[39m: mode, \u001b[38;5;124m'\u001b[39m\u001b[38;5;124mhdkey\u001b[39m\u001b[38;5;124m'\u001b[39m: hdkey, \u001b[38;5;124m'\u001b[39m\u001b[38;5;124mhdvalue\u001b[39m\u001b[38;5;124m'\u001b[39m: hdvalue, \u001b[38;5;124m'\u001b[39m\u001b[38;5;124mverbose\u001b[39m\u001b[38;5;124m'\u001b[39m: verbose}\n\u001b[0;32m--> 126\u001b[0m \u001b[38;5;28;01massert\u001b[39;00m _pc\u001b[38;5;241m.\u001b[39mvalidate(doc,schema), create_error_string(_pc\u001b[38;5;241m.\u001b[39merrors)\n\u001b[1;32m    127\u001b[0m _logging_state_ \u001b[38;5;241m=\u001b[39m _start_log( \u001b[38;5;124m'\u001b[39m\u001b[38;5;124mimhead\u001b[39m\u001b[38;5;124m'\u001b[39m, [ \u001b[38;5;124m'\u001b[39m\u001b[38;5;124mimagename=\u001b[39m\u001b[38;5;124m'\u001b[39m \u001b[38;5;241m+\u001b[39m \u001b[38;5;28mrepr\u001b[39m(_pc\u001b[38;5;241m.\u001b[39mdocument[\u001b[38;5;124m'\u001b[39m\u001b[38;5;124mimagename\u001b[39m\u001b[38;5;124m'\u001b[39m]), \u001b[38;5;124m'\u001b[39m\u001b[38;5;124mmode=\u001b[39m\u001b[38;5;124m'\u001b[39m \u001b[38;5;241m+\u001b[39m \u001b[38;5;28mrepr\u001b[39m(_pc\u001b[38;5;241m.\u001b[39mdocument[\u001b[38;5;124m'\u001b[39m\u001b[38;5;124mmode\u001b[39m\u001b[38;5;124m'\u001b[39m]), \u001b[38;5;124m'\u001b[39m\u001b[38;5;124mhdkey=\u001b[39m\u001b[38;5;124m'\u001b[39m \u001b[38;5;241m+\u001b[39m \u001b[38;5;28mrepr\u001b[39m(_pc\u001b[38;5;241m.\u001b[39mdocument[\u001b[38;5;124m'\u001b[39m\u001b[38;5;124mhdkey\u001b[39m\u001b[38;5;124m'\u001b[39m]), \u001b[38;5;124m'\u001b[39m\u001b[38;5;124mhdvalue=\u001b[39m\u001b[38;5;124m'\u001b[39m \u001b[38;5;241m+\u001b[39m \u001b[38;5;28mrepr\u001b[39m(_pc\u001b[38;5;241m.\u001b[39mdocument[\u001b[38;5;124m'\u001b[39m\u001b[38;5;124mhdvalue\u001b[39m\u001b[38;5;124m'\u001b[39m]), \u001b[38;5;124m'\u001b[39m\u001b[38;5;124mverbose=\u001b[39m\u001b[38;5;124m'\u001b[39m \u001b[38;5;241m+\u001b[39m \u001b[38;5;28mrepr\u001b[39m(_pc\u001b[38;5;241m.\u001b[39mdocument[\u001b[38;5;124m'\u001b[39m\u001b[38;5;124mverbose\u001b[39m\u001b[38;5;124m'\u001b[39m]) ] )\n\u001b[1;32m    128\u001b[0m task_result \u001b[38;5;241m=\u001b[39m \u001b[38;5;28;01mNone\u001b[39;00m\n",
      "\u001b[0;31mAssertionError\u001b[0m: the imagename parameter must be a path that exists ('EN1HALO-B3LR.PBCOR.image' does not exist)"
     ]
    }
   ],
   "source": [
    "headerB3 = imhead('EN1HALO-B3LR.PBCOR.image', mode='list')\n",
    "headerB4 = imhead('EN1HALO-B4.PBCOR.image', mode='list')\n",
    "\n",
    "print('B3 crval1', headerB3['crval1'], ': B4 crval1', headerB4['crval1'])\n",
    "print(' ')\n",
    "print('B3 crval2', headerB3['crval2'], ': B4 crval2', headerB4['crval2'])\n",
    "print(' ')\n",
    "print('B3 cdelt1', headerB3['cdelt1'], ': B4 cdelt1', headerB4['cdelt1'])\n",
    "print(' ')\n",
    "print('B3 cdelt2', headerB3['cdelt2'], ': B4 cdelt2', headerB4['cdelt2'])\n",
    "print(' ')\n",
    "print('B3 cdelt1', headerB3['cdelt1'], ': B4 cdelt1', headerB4['cdelt1'])"
   ]
  },
  {
   "cell_type": "code",
   "execution_count": null,
   "id": "969d73c7-3bff-4db7-bf5b-1ac9a7a39451",
   "metadata": {},
   "outputs": [],
   "source": []
  },
  {
   "cell_type": "code",
   "execution_count": null,
   "id": "59f93c6c-ff67-4d38-b780-b392a14ca89b",
   "metadata": {},
   "outputs": [],
   "source": []
  }
 ],
 "metadata": {
  "kernelspec": {
   "display_name": "CASA-6",
   "language": "python",
   "name": "casa6"
  },
  "language_info": {
   "codemirror_mode": {
    "name": "ipython",
    "version": 3
   },
   "file_extension": ".py",
   "mimetype": "text/x-python",
   "name": "python",
   "nbconvert_exporter": "python",
   "pygments_lexer": "ipython3",
   "version": "3.8.2"
  }
 },
 "nbformat": 4,
 "nbformat_minor": 5
}
