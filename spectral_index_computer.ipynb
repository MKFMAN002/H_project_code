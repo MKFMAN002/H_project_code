{
 "cells": [
  {
   "cell_type": "code",
   "execution_count": null,
   "id": "639712e0-24a8-4135-b897-5c97bf0ee443",
   "metadata": {},
   "outputs": [],
   "source": [
    "import numpy as np\n",
    "# compute spectral index: (B3LR and B4LR) \n",
    "# f1 = 402264149.168 #B3LR_cutout400\n",
    "# f2 = 688714808.324  # B4LR_cutout400\n",
    "\n",
    "def compute_spix(s1, s2):\n",
    "\n",
    "    \"Compute the spectral index\"\n",
    "    spix = np.log(s1/s2)/(np.log(f1/f2))\n",
    "    return spix"
   ]
  },
  {
   "cell_type": "code",
   "execution_count": 1,
   "id": "95f59fc1-3167-4ee1-b346-61cc3395feaf",
   "metadata": {},
   "outputs": [],
   "source": [
    "# f1 = 0.4023 # B3LR_cutout400\n",
    "# f2 = 0.6887 # B4LR_cutout400\n",
    "\n",
    "# Frequencies:\n",
    "f1 = 0.6887#e9 # B4HR_cutout400\n",
    "f2 = 1.2496#e9 # B5LR_cutout400"
   ]
  },
  {
   "cell_type": "code",
   "execution_count": 30,
   "id": "113fe4ee-6e36-4631-a432-25389d1544ee",
   "metadata": {},
   "outputs": [
    {
     "data": {
      "text/plain": [
       "-0.058180313361374886"
      ]
     },
     "execution_count": 30,
     "metadata": {},
     "output_type": "execute_result"
    }
   ],
   "source": [
    "# Computing spectral index\n",
    "compute_spix(5.675669676737e-3 , 5.482308658676e-3)"
   ]
  },
  {
   "cell_type": "markdown",
   "id": "f851f4aa-ecce-4fd8-8026-84adca2a236e",
   "metadata": {},
   "source": [
    "## Flux density uncertainty"
   ]
  },
  {
   "cell_type": "code",
   "execution_count": 31,
   "id": "ce06cfa7-be84-4375-93d6-604793f30124",
   "metadata": {},
   "outputs": [],
   "source": [
    "# Flux density uncertainty Function\n",
    "def stats_uncert(pixel_num_per_beam, Region_pixel_num):\n",
    "\n",
    "    Beam_num_in_the_reg = Region_pixel_num/pixel_num_per_beam\n",
    "    Flux_density_uncert = np.sqrt(Beam_num_in_the_reg*RMS**2)\n",
    "    return Flux_density_uncert"
   ]
  },
  {
   "cell_type": "code",
   "execution_count": 45,
   "id": "8d77daa4-4210-4376-954e-a91150400c61",
   "metadata": {},
   "outputs": [
    {
     "name": "stdout",
     "output_type": "stream",
     "text": [
      "0.00018906465657489834\n"
     ]
    }
   ],
   "source": [
    "# B3LR\n",
    "RMS = 3.351262899043e-5 # background noise\n",
    "print(stats_uncert(2.900000000000e+1, 9.230000000000e+2))"
   ]
  },
  {
   "cell_type": "code",
   "execution_count": 44,
   "id": "86e8cefc-ba6c-4c0c-91c8-3c5fbd6a0fe3",
   "metadata": {},
   "outputs": [
    {
     "name": "stdout",
     "output_type": "stream",
     "text": [
      "0.00040302154387169897\n"
     ]
    }
   ],
   "source": [
    "# B4LR \n",
    "RMS = 2.656002276407e-5 \n",
    "print(stats_uncert(2.000000000000e+1,  2.071000000000e+3 ))"
   ]
  },
  {
   "cell_type": "code",
   "execution_count": null,
   "id": "3c98290a-232f-4ca7-9419-fda2063d7408",
   "metadata": {},
   "outputs": [],
   "source": []
  }
 ],
 "metadata": {
  "kernelspec": {
   "display_name": "Python 3 (ipykernel)",
   "language": "python",
   "name": "python3"
  },
  "language_info": {
   "codemirror_mode": {
    "name": "ipython",
    "version": 3
   },
   "file_extension": ".py",
   "mimetype": "text/x-python",
   "name": "python",
   "nbconvert_exporter": "python",
   "pygments_lexer": "ipython3",
   "version": "3.11.7"
  }
 },
 "nbformat": 4,
 "nbformat_minor": 5
}
